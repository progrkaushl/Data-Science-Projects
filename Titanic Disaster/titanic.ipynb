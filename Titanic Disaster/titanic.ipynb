{
 "cells": [
  {
   "cell_type": "markdown",
   "metadata": {},
   "source": [
    "## Import Libraries"
   ]
  },
  {
   "cell_type": "code",
   "execution_count": 1,
   "metadata": {},
   "outputs": [],
   "source": [
    "%matplotlib inline\n",
    "\n",
    "import copy\n",
    "import numpy as np\n",
    "import scipy as sp\n",
    "import pandas as pd\n",
    "import matplotlib.pyplot as plt\n",
    "import matplotlib.lines as lines\n",
    "import seaborn as sns\n",
    "import missingno as msno\n",
    "\n",
    "import warnings\n",
    "warnings.filterwarnings(\"ignore\")"
   ]
  },
  {
   "cell_type": "markdown",
   "metadata": {},
   "source": [
    "<div class=\"alert alert-block alert-info\">\n",
    "    <h1><center><strong>⁉️ Problem Introduction</strong></center></h1>\n",
    "    <p>The sinking of the Titanic is one of the most infamous shipwrecks in history.\n",
    "\n",
    "On April 15, 1912, during her maiden voyage, the widely considered “unsinkable” RMS Titanic sank after colliding with an iceberg. Unfortunately, there weren’t enough lifeboats for everyone onboard, resulting in the death of 1502 out of 2224 passengers and crew.\n",
    "        \n",
    "While there was some element of luck involved in surviving, it seems some groups of people were more likely to survive than others.\n",
    "    </p>\n",
    "    <hr>\n",
    "    <p>\n",
    "We have been asked to build a predictive model that answers the question: “what sorts of people were more likely to survive?” using passenger data (ie name, age, gender, socio-economic class, etc)\n",
    "    </p>\n",
    "</div>"
   ]
  },
  {
   "cell_type": "markdown",
   "metadata": {},
   "source": [
    "<div class=\"alert alert-warning\">  \n",
    "<h3><strong>1. Collect & Load Data</strong></h3>\n",
    "</div>"
   ]
  },
  {
   "cell_type": "code",
   "execution_count": 2,
   "metadata": {},
   "outputs": [],
   "source": [
    "# import gender_submission, train dataset and predict datasets using pandas 'read_csv' function\n",
    "df_train = pd.read_csv('./datasets/train.csv')\n",
    "df_predict = pd.read_csv('./datasets/test.csv')"
   ]
  },
  {
   "cell_type": "code",
   "execution_count": 3,
   "metadata": {},
   "outputs": [],
   "source": [
    "# for data exploration and analysis we will create a deep copy of out train dataset\n",
    "df_eda = copy.deepcopy(df_train)"
   ]
  },
  {
   "cell_type": "markdown",
   "metadata": {},
   "source": [
    "#### 1.1 Peek into imported datasets"
   ]
  },
  {
   "cell_type": "code",
   "execution_count": 4,
   "metadata": {},
   "outputs": [
    {
     "data": {
      "text/html": [
       "<div>\n",
       "<style scoped>\n",
       "    .dataframe tbody tr th:only-of-type {\n",
       "        vertical-align: middle;\n",
       "    }\n",
       "\n",
       "    .dataframe tbody tr th {\n",
       "        vertical-align: top;\n",
       "    }\n",
       "\n",
       "    .dataframe thead th {\n",
       "        text-align: right;\n",
       "    }\n",
       "</style>\n",
       "<table border=\"1\" class=\"dataframe\">\n",
       "  <thead>\n",
       "    <tr style=\"text-align: right;\">\n",
       "      <th></th>\n",
       "      <th>PassengerId</th>\n",
       "      <th>Survived</th>\n",
       "      <th>Pclass</th>\n",
       "      <th>Name</th>\n",
       "      <th>Sex</th>\n",
       "      <th>Age</th>\n",
       "      <th>SibSp</th>\n",
       "      <th>Parch</th>\n",
       "      <th>Ticket</th>\n",
       "      <th>Fare</th>\n",
       "      <th>Cabin</th>\n",
       "      <th>Embarked</th>\n",
       "    </tr>\n",
       "  </thead>\n",
       "  <tbody>\n",
       "    <tr>\n",
       "      <th>0</th>\n",
       "      <td>1</td>\n",
       "      <td>0</td>\n",
       "      <td>3</td>\n",
       "      <td>Braund, Mr. Owen Harris</td>\n",
       "      <td>male</td>\n",
       "      <td>22.0</td>\n",
       "      <td>1</td>\n",
       "      <td>0</td>\n",
       "      <td>A/5 21171</td>\n",
       "      <td>7.2500</td>\n",
       "      <td>NaN</td>\n",
       "      <td>S</td>\n",
       "    </tr>\n",
       "    <tr>\n",
       "      <th>1</th>\n",
       "      <td>2</td>\n",
       "      <td>1</td>\n",
       "      <td>1</td>\n",
       "      <td>Cumings, Mrs. John Bradley (Florence Briggs Th...</td>\n",
       "      <td>female</td>\n",
       "      <td>38.0</td>\n",
       "      <td>1</td>\n",
       "      <td>0</td>\n",
       "      <td>PC 17599</td>\n",
       "      <td>71.2833</td>\n",
       "      <td>C85</td>\n",
       "      <td>C</td>\n",
       "    </tr>\n",
       "  </tbody>\n",
       "</table>\n",
       "</div>"
      ],
      "text/plain": [
       "   PassengerId  Survived  Pclass  \\\n",
       "0            1         0       3   \n",
       "1            2         1       1   \n",
       "\n",
       "                                                Name     Sex   Age  SibSp  \\\n",
       "0                            Braund, Mr. Owen Harris    male  22.0      1   \n",
       "1  Cumings, Mrs. John Bradley (Florence Briggs Th...  female  38.0      1   \n",
       "\n",
       "   Parch     Ticket     Fare Cabin Embarked  \n",
       "0      0  A/5 21171   7.2500   NaN        S  \n",
       "1      0   PC 17599  71.2833   C85        C  "
      ]
     },
     "execution_count": 4,
     "metadata": {},
     "output_type": "execute_result"
    }
   ],
   "source": [
    "df_eda.head(2)"
   ]
  },
  {
   "cell_type": "markdown",
   "metadata": {},
   "source": [
    "#### 1.2 Definition of dataset"
   ]
  },
  {
   "cell_type": "code",
   "execution_count": 5,
   "metadata": {},
   "outputs": [
    {
     "data": {
      "text/html": [
       "<div>\n",
       "<style scoped>\n",
       "    .dataframe tbody tr th:only-of-type {\n",
       "        vertical-align: middle;\n",
       "    }\n",
       "\n",
       "    .dataframe tbody tr th {\n",
       "        vertical-align: top;\n",
       "    }\n",
       "\n",
       "    .dataframe thead th {\n",
       "        text-align: right;\n",
       "    }\n",
       "</style>\n",
       "<table border=\"1\" class=\"dataframe\">\n",
       "  <thead>\n",
       "    <tr style=\"text-align: right;\">\n",
       "      <th></th>\n",
       "      <th>Variable</th>\n",
       "      <th>Definition</th>\n",
       "      <th>Key</th>\n",
       "    </tr>\n",
       "  </thead>\n",
       "  <tbody>\n",
       "    <tr>\n",
       "      <th>0</th>\n",
       "      <td>survival</td>\n",
       "      <td>survival</td>\n",
       "      <td>0 = No, 1 = Yes</td>\n",
       "    </tr>\n",
       "    <tr>\n",
       "      <th>1</th>\n",
       "      <td>Pclass</td>\n",
       "      <td>Ticket class</td>\n",
       "      <td>1 = 1st, 2 = 2nd, 3 = 3rd</td>\n",
       "    </tr>\n",
       "    <tr>\n",
       "      <th>2</th>\n",
       "      <td>Sex</td>\n",
       "      <td>Sex</td>\n",
       "      <td>Male or Female</td>\n",
       "    </tr>\n",
       "    <tr>\n",
       "      <th>3</th>\n",
       "      <td>Age</td>\n",
       "      <td>Age in years</td>\n",
       "      <td>NaN</td>\n",
       "    </tr>\n",
       "    <tr>\n",
       "      <th>4</th>\n",
       "      <td>SibSp</td>\n",
       "      <td># of siblings / spouses aboard the Titanic</td>\n",
       "      <td>NaN</td>\n",
       "    </tr>\n",
       "    <tr>\n",
       "      <th>5</th>\n",
       "      <td>Parch</td>\n",
       "      <td># of parents / children aboard the Titanic</td>\n",
       "      <td>NaN</td>\n",
       "    </tr>\n",
       "    <tr>\n",
       "      <th>6</th>\n",
       "      <td>Ticket</td>\n",
       "      <td>Ticket number</td>\n",
       "      <td>NaN</td>\n",
       "    </tr>\n",
       "    <tr>\n",
       "      <th>7</th>\n",
       "      <td>Fare</td>\n",
       "      <td>Passenger fare</td>\n",
       "      <td>NaN</td>\n",
       "    </tr>\n",
       "    <tr>\n",
       "      <th>8</th>\n",
       "      <td>Cabin</td>\n",
       "      <td>Cabin number</td>\n",
       "      <td>NaN</td>\n",
       "    </tr>\n",
       "    <tr>\n",
       "      <th>9</th>\n",
       "      <td>Embarked</td>\n",
       "      <td>Port of Embarkation</td>\n",
       "      <td>C = Cherbourg, Q = Queenstown, S = Southampton</td>\n",
       "    </tr>\n",
       "  </tbody>\n",
       "</table>\n",
       "</div>"
      ],
      "text/plain": [
       "   Variable                                  Definition  \\\n",
       "0  survival                                    survival   \n",
       "1    Pclass                                Ticket class   \n",
       "2       Sex                                         Sex   \n",
       "3       Age                                Age in years   \n",
       "4     SibSp  # of siblings / spouses aboard the Titanic   \n",
       "5     Parch  # of parents / children aboard the Titanic   \n",
       "6    Ticket                               Ticket number   \n",
       "7      Fare                              Passenger fare   \n",
       "8     Cabin                                Cabin number   \n",
       "9  Embarked                         Port of Embarkation   \n",
       "\n",
       "                                              Key  \n",
       "0                                 0 = No, 1 = Yes  \n",
       "1                       1 = 1st, 2 = 2nd, 3 = 3rd  \n",
       "2                                  Male or Female  \n",
       "3                                             NaN  \n",
       "4                                             NaN  \n",
       "5                                             NaN  \n",
       "6                                             NaN  \n",
       "7                                             NaN  \n",
       "8                                             NaN  \n",
       "9  C = Cherbourg, Q = Queenstown, S = Southampton  "
      ]
     },
     "execution_count": 5,
     "metadata": {},
     "output_type": "execute_result"
    }
   ],
   "source": [
    "data_definition = {'Variable':['survival', 'Pclass', 'Sex', 'Age', 'SibSp', 'Parch', 'Ticket', 'Fare', 'Cabin', 'Embarked'],\n",
    "                   'Definition':['survival', 'Ticket class', 'Sex', 'Age in years', '# of siblings / spouses aboard the Titanic', \\\n",
    "                                 '# of parents / children aboard the Titanic', 'Ticket number', 'Passenger fare', 'Cabin number', 'Port of Embarkation'],\n",
    "                   'Key':['0 = No, 1 = Yes', '1 = 1st, 2 = 2nd, 3 = 3rd', 'Male or Female', \\\n",
    "                          'NaN', 'NaN', 'NaN', 'NaN', 'NaN', 'NaN', 'C = Cherbourg, Q = Queenstown, S = Southampton']}\n",
    "\n",
    "pd.DataFrame.from_dict(data_definition)"
   ]
  },
  {
   "cell_type": "markdown",
   "metadata": {},
   "source": [
    "- `gender_submission` dataset only has 2 columns `PassengerId` and `Survived`. PassengerId kind of act as `key` which is connecting all three datasets.\n",
    "- `train` dataset has 12 columnns which contains details about passengers with observed value of 'Survived' label.\n",
    "- `predict` dataset all 11 columns as in `train` dataset except `survived` column, which also makes sense as we are required to predict `survived` label for given observations in the predict dataset."
   ]
  },
  {
   "cell_type": "markdown",
   "metadata": {},
   "source": [
    "<div class=\"alert alert-warning\">  \n",
    "<h3><strong>2. Exploratory Data Analysis</strong></h3>\n",
    "</div>"
   ]
  },
  {
   "cell_type": "markdown",
   "metadata": {},
   "source": [
    "> Exploratory Data Analysis refers to the critical process of performing initial investigations on data so as to discover patterns,to spot anomalies,to xxx hypothesis and to check assumptions with the help of summary statistics and graphical representations."
   ]
  },
  {
   "cell_type": "markdown",
   "metadata": {},
   "source": [
    "Before starting out data exploration and analysis part, first we can define important configurations for Pandas, Seaborn, or Matplotlib we will be using."
   ]
  },
  {
   "cell_type": "markdown",
   "metadata": {},
   "source": [
    "#### 2.2 Parameters Configuration"
   ]
  },
  {
   "cell_type": "markdown",
   "metadata": {},
   "source": [
    "**Matplotlib Parameters**"
   ]
  },
  {
   "cell_type": "code",
   "execution_count": 6,
   "metadata": {},
   "outputs": [],
   "source": [
    "# Consistent plots\n",
    "from pylab import rcParams\n",
    "\n",
    "rcParams['figure.figsize'] = 10,5\n",
    "rcParams['xtick.labelsize'] = 9\n",
    "rcParams['ytick.labelsize'] = 9\n",
    "rcParams['axes.labelsize'] = 10\n",
    "rcParams['axes.grid.axis'] = 'y'\n",
    "rcParams['grid.linestyle'] = '--'\n",
    "rcParams['grid.alpha'] = '0.4'"
   ]
  },
  {
   "cell_type": "markdown",
   "metadata": {},
   "source": [
    "**Color palette**"
   ]
  },
  {
   "cell_type": "code",
   "execution_count": 7,
   "metadata": {},
   "outputs": [],
   "source": [
    "# set color mapping to sequential color palette\n",
    "cmap = 'PuBu'"
   ]
  },
  {
   "cell_type": "code",
   "execution_count": 8,
   "metadata": {},
   "outputs": [],
   "source": [
    "# set color palette to discrete color palette \n",
    "customPalette = sns.color_palette('Pastel1')\n",
    "sns.set_palette(sns.color_palette(customPalette))"
   ]
  },
  {
   "cell_type": "code",
   "execution_count": 9,
   "metadata": {},
   "outputs": [
    {
     "data": {
      "text/html": [
       "<svg  width=\"495\" height=\"55\"><rect x=\"0\" y=\"0\" width=\"55\" height=\"55\" style=\"fill:#fbb4ae;stroke-width:2;stroke:rgb(255,255,255)\"/><rect x=\"55\" y=\"0\" width=\"55\" height=\"55\" style=\"fill:#b3cde3;stroke-width:2;stroke:rgb(255,255,255)\"/><rect x=\"110\" y=\"0\" width=\"55\" height=\"55\" style=\"fill:#ccebc5;stroke-width:2;stroke:rgb(255,255,255)\"/><rect x=\"165\" y=\"0\" width=\"55\" height=\"55\" style=\"fill:#decbe4;stroke-width:2;stroke:rgb(255,255,255)\"/><rect x=\"220\" y=\"0\" width=\"55\" height=\"55\" style=\"fill:#fed9a6;stroke-width:2;stroke:rgb(255,255,255)\"/><rect x=\"275\" y=\"0\" width=\"55\" height=\"55\" style=\"fill:#ffffcc;stroke-width:2;stroke:rgb(255,255,255)\"/><rect x=\"330\" y=\"0\" width=\"55\" height=\"55\" style=\"fill:#e5d8bd;stroke-width:2;stroke:rgb(255,255,255)\"/><rect x=\"385\" y=\"0\" width=\"55\" height=\"55\" style=\"fill:#fddaec;stroke-width:2;stroke:rgb(255,255,255)\"/><rect x=\"440\" y=\"0\" width=\"55\" height=\"55\" style=\"fill:#f2f2f2;stroke-width:2;stroke:rgb(255,255,255)\"/></svg>"
      ],
      "text/plain": [
       "[(0.984313725490196, 0.7058823529411765, 0.6823529411764706),\n",
       " (0.7019607843137254, 0.803921568627451, 0.8901960784313725),\n",
       " (0.8, 0.9215686274509803, 0.7725490196078432),\n",
       " (0.8705882352941177, 0.796078431372549, 0.8941176470588236),\n",
       " (0.996078431372549, 0.8509803921568627, 0.6509803921568628),\n",
       " (1.0, 1.0, 0.8),\n",
       " (0.8980392156862745, 0.8470588235294118, 0.7411764705882353),\n",
       " (0.9921568627450981, 0.8549019607843137, 0.9254901960784314),\n",
       " (0.9490196078431372, 0.9490196078431372, 0.9490196078431372)]"
      ]
     },
     "execution_count": 9,
     "metadata": {},
     "output_type": "execute_result"
    }
   ],
   "source": [
    "customPalette"
   ]
  },
  {
   "cell_type": "markdown",
   "metadata": {},
   "source": [
    "**Font size and font family**"
   ]
  },
  {
   "cell_type": "code",
   "execution_count": 10,
   "metadata": {},
   "outputs": [],
   "source": [
    "sns.set_theme(style='whitegrid', font='serif')"
   ]
  },
  {
   "cell_type": "code",
   "execution_count": 11,
   "metadata": {},
   "outputs": [],
   "source": [
    "fig_title_prop = {'size': 18, 'color': '#4a4a4a', 'fontweight':'bold'}"
   ]
  },
  {
   "cell_type": "code",
   "execution_count": 12,
   "metadata": {},
   "outputs": [],
   "source": [
    "sns.set_context('notebook', font_scale=1, rc={'lines.linewidth': 2.5})"
   ]
  },
  {
   "cell_type": "markdown",
   "metadata": {},
   "source": [
    "<br>"
   ]
  },
  {
   "cell_type": "markdown",
   "metadata": {},
   "source": [
    "#### 2.2 Dataset Exploration"
   ]
  },
  {
   "cell_type": "markdown",
   "metadata": {},
   "source": [
    "Before delving into analysis let's make sure that our data is in tidy format. \n",
    "\n",
    "Conditions to check if **data is tidy**:\n",
    "- Is every column a variable? ✅\n",
    "- Is every row an observation? ✅\n",
    "- Is every table a single observational unit? ✅\n",
    "\n",
    "Now we can start exploring our dataset."
   ]
  },
  {
   "cell_type": "markdown",
   "metadata": {},
   "source": [
    "From the given `Problem Statement` and `train` dataset, we can identify our `Predictor` and `Target` variables:\n",
    "- Predictor Variables : Pclass, Gender, Sex, Age, SibSp, Parch, Ticket, Fare, Cabin, Embarked\n",
    "- Target Variable : Survived"
   ]
  },
  {
   "cell_type": "markdown",
   "metadata": {},
   "source": [
    "Lets expolore `train` dataset:"
   ]
  },
  {
   "cell_type": "markdown",
   "metadata": {},
   "source": [
    "**Size of the dataset**"
   ]
  },
  {
   "cell_type": "code",
   "execution_count": 13,
   "metadata": {},
   "outputs": [
    {
     "data": {
      "text/plain": [
       "(891, 12)"
      ]
     },
     "execution_count": 13,
     "metadata": {},
     "output_type": "execute_result"
    }
   ],
   "source": [
    "df_train.shape"
   ]
  },
  {
   "cell_type": "markdown",
   "metadata": {},
   "source": [
    "we have 12 columns (11 features + 1 target) and 890 observations."
   ]
  },
  {
   "cell_type": "code",
   "execution_count": 14,
   "metadata": {},
   "outputs": [],
   "source": [
    "datadict = pd.DataFrame()\n",
    "datadict['dtype'] = df_eda.dtypes\n",
    "datadict['count'] = df_eda.count()\n",
    "datadict['missing_val'] = df_eda.isnull().sum()\n",
    "datadict['missing_per'] = round(datadict['missing_val'] / datadict['count'], 2)\n",
    "datadict['nunique'] = df_eda.nunique()"
   ]
  },
  {
   "cell_type": "code",
   "execution_count": 15,
   "metadata": {},
   "outputs": [
    {
     "data": {
      "text/html": [
       "<style  type=\"text/css\" >\n",
       "    #T_234f0c14_31d9_11eb_b746_a08869e6c543row0_col1 {\n",
       "            background-color:  #023858;\n",
       "            color:  #f1f1f1;\n",
       "        }    #T_234f0c14_31d9_11eb_b746_a08869e6c543row0_col2 {\n",
       "            background-color:  #fff7fb;\n",
       "            color:  #000000;\n",
       "        }    #T_234f0c14_31d9_11eb_b746_a08869e6c543row0_col3 {\n",
       "            background-color:  #fff7fb;\n",
       "            color:  #000000;\n",
       "        }    #T_234f0c14_31d9_11eb_b746_a08869e6c543row0_col4 {\n",
       "            background-color:  #023858;\n",
       "            color:  #f1f1f1;\n",
       "        }    #T_234f0c14_31d9_11eb_b746_a08869e6c543row1_col1 {\n",
       "            background-color:  #023858;\n",
       "            color:  #f1f1f1;\n",
       "        }    #T_234f0c14_31d9_11eb_b746_a08869e6c543row1_col2 {\n",
       "            background-color:  #fff7fb;\n",
       "            color:  #000000;\n",
       "        }    #T_234f0c14_31d9_11eb_b746_a08869e6c543row1_col3 {\n",
       "            background-color:  #fff7fb;\n",
       "            color:  #000000;\n",
       "        }    #T_234f0c14_31d9_11eb_b746_a08869e6c543row1_col4 {\n",
       "            background-color:  #fff7fb;\n",
       "            color:  #000000;\n",
       "        }    #T_234f0c14_31d9_11eb_b746_a08869e6c543row2_col1 {\n",
       "            background-color:  #023858;\n",
       "            color:  #f1f1f1;\n",
       "        }    #T_234f0c14_31d9_11eb_b746_a08869e6c543row2_col2 {\n",
       "            background-color:  #fff7fb;\n",
       "            color:  #000000;\n",
       "        }    #T_234f0c14_31d9_11eb_b746_a08869e6c543row2_col3 {\n",
       "            background-color:  #fff7fb;\n",
       "            color:  #000000;\n",
       "        }    #T_234f0c14_31d9_11eb_b746_a08869e6c543row2_col4 {\n",
       "            background-color:  #fff7fb;\n",
       "            color:  #000000;\n",
       "        }    #T_234f0c14_31d9_11eb_b746_a08869e6c543row3_col1 {\n",
       "            background-color:  #023858;\n",
       "            color:  #f1f1f1;\n",
       "        }    #T_234f0c14_31d9_11eb_b746_a08869e6c543row3_col2 {\n",
       "            background-color:  #fff7fb;\n",
       "            color:  #000000;\n",
       "        }    #T_234f0c14_31d9_11eb_b746_a08869e6c543row3_col3 {\n",
       "            background-color:  #fff7fb;\n",
       "            color:  #000000;\n",
       "        }    #T_234f0c14_31d9_11eb_b746_a08869e6c543row3_col4 {\n",
       "            background-color:  #023858;\n",
       "            color:  #f1f1f1;\n",
       "        }    #T_234f0c14_31d9_11eb_b746_a08869e6c543row4_col1 {\n",
       "            background-color:  #023858;\n",
       "            color:  #f1f1f1;\n",
       "        }    #T_234f0c14_31d9_11eb_b746_a08869e6c543row4_col2 {\n",
       "            background-color:  #fff7fb;\n",
       "            color:  #000000;\n",
       "        }    #T_234f0c14_31d9_11eb_b746_a08869e6c543row4_col3 {\n",
       "            background-color:  #fff7fb;\n",
       "            color:  #000000;\n",
       "        }    #T_234f0c14_31d9_11eb_b746_a08869e6c543row4_col4 {\n",
       "            background-color:  #fff7fb;\n",
       "            color:  #000000;\n",
       "        }    #T_234f0c14_31d9_11eb_b746_a08869e6c543row5_col1 {\n",
       "            background-color:  #0771b1;\n",
       "            color:  #f1f1f1;\n",
       "        }    #T_234f0c14_31d9_11eb_b746_a08869e6c543row5_col2 {\n",
       "            background-color:  #ced0e6;\n",
       "            color:  #000000;\n",
       "        }    #T_234f0c14_31d9_11eb_b746_a08869e6c543row5_col3 {\n",
       "            background-color:  #f4eef6;\n",
       "            color:  #000000;\n",
       "        }    #T_234f0c14_31d9_11eb_b746_a08869e6c543row5_col4 {\n",
       "            background-color:  #f1ebf4;\n",
       "            color:  #000000;\n",
       "        }    #T_234f0c14_31d9_11eb_b746_a08869e6c543row6_col1 {\n",
       "            background-color:  #023858;\n",
       "            color:  #f1f1f1;\n",
       "        }    #T_234f0c14_31d9_11eb_b746_a08869e6c543row6_col2 {\n",
       "            background-color:  #fff7fb;\n",
       "            color:  #000000;\n",
       "        }    #T_234f0c14_31d9_11eb_b746_a08869e6c543row6_col3 {\n",
       "            background-color:  #fff7fb;\n",
       "            color:  #000000;\n",
       "        }    #T_234f0c14_31d9_11eb_b746_a08869e6c543row6_col4 {\n",
       "            background-color:  #fef6fb;\n",
       "            color:  #000000;\n",
       "        }    #T_234f0c14_31d9_11eb_b746_a08869e6c543row7_col1 {\n",
       "            background-color:  #023858;\n",
       "            color:  #f1f1f1;\n",
       "        }    #T_234f0c14_31d9_11eb_b746_a08869e6c543row7_col2 {\n",
       "            background-color:  #fff7fb;\n",
       "            color:  #000000;\n",
       "        }    #T_234f0c14_31d9_11eb_b746_a08869e6c543row7_col3 {\n",
       "            background-color:  #fff7fb;\n",
       "            color:  #000000;\n",
       "        }    #T_234f0c14_31d9_11eb_b746_a08869e6c543row7_col4 {\n",
       "            background-color:  #fef6fb;\n",
       "            color:  #000000;\n",
       "        }    #T_234f0c14_31d9_11eb_b746_a08869e6c543row8_col1 {\n",
       "            background-color:  #023858;\n",
       "            color:  #f1f1f1;\n",
       "        }    #T_234f0c14_31d9_11eb_b746_a08869e6c543row8_col2 {\n",
       "            background-color:  #fff7fb;\n",
       "            color:  #000000;\n",
       "        }    #T_234f0c14_31d9_11eb_b746_a08869e6c543row8_col3 {\n",
       "            background-color:  #fff7fb;\n",
       "            color:  #000000;\n",
       "        }    #T_234f0c14_31d9_11eb_b746_a08869e6c543row8_col4 {\n",
       "            background-color:  #056dac;\n",
       "            color:  #f1f1f1;\n",
       "        }    #T_234f0c14_31d9_11eb_b746_a08869e6c543row9_col1 {\n",
       "            background-color:  #023858;\n",
       "            color:  #f1f1f1;\n",
       "        }    #T_234f0c14_31d9_11eb_b746_a08869e6c543row9_col2 {\n",
       "            background-color:  #fff7fb;\n",
       "            color:  #000000;\n",
       "        }    #T_234f0c14_31d9_11eb_b746_a08869e6c543row9_col3 {\n",
       "            background-color:  #fff7fb;\n",
       "            color:  #000000;\n",
       "        }    #T_234f0c14_31d9_11eb_b746_a08869e6c543row9_col4 {\n",
       "            background-color:  #c8cde4;\n",
       "            color:  #000000;\n",
       "        }    #T_234f0c14_31d9_11eb_b746_a08869e6c543row10_col1 {\n",
       "            background-color:  #fff7fb;\n",
       "            color:  #000000;\n",
       "        }    #T_234f0c14_31d9_11eb_b746_a08869e6c543row10_col2 {\n",
       "            background-color:  #023858;\n",
       "            color:  #f1f1f1;\n",
       "        }    #T_234f0c14_31d9_11eb_b746_a08869e6c543row10_col3 {\n",
       "            background-color:  #023858;\n",
       "            color:  #f1f1f1;\n",
       "        }    #T_234f0c14_31d9_11eb_b746_a08869e6c543row10_col4 {\n",
       "            background-color:  #e4e1ef;\n",
       "            color:  #000000;\n",
       "        }    #T_234f0c14_31d9_11eb_b746_a08869e6c543row11_col1 {\n",
       "            background-color:  #023858;\n",
       "            color:  #f1f1f1;\n",
       "        }    #T_234f0c14_31d9_11eb_b746_a08869e6c543row11_col2 {\n",
       "            background-color:  #fff7fb;\n",
       "            color:  #000000;\n",
       "        }    #T_234f0c14_31d9_11eb_b746_a08869e6c543row11_col3 {\n",
       "            background-color:  #fff7fb;\n",
       "            color:  #000000;\n",
       "        }    #T_234f0c14_31d9_11eb_b746_a08869e6c543row11_col4 {\n",
       "            background-color:  #fff7fb;\n",
       "            color:  #000000;\n",
       "        }</style><table id=\"T_234f0c14_31d9_11eb_b746_a08869e6c543\" ><thead>    <tr>        <th class=\"blank level0\" ></th>        <th class=\"col_heading level0 col0\" >dtype</th>        <th class=\"col_heading level0 col1\" >count</th>        <th class=\"col_heading level0 col2\" >missing_val</th>        <th class=\"col_heading level0 col3\" >missing_per</th>        <th class=\"col_heading level0 col4\" >nunique</th>    </tr></thead><tbody>\n",
       "                <tr>\n",
       "                        <th id=\"T_234f0c14_31d9_11eb_b746_a08869e6c543level0_row0\" class=\"row_heading level0 row0\" >PassengerId</th>\n",
       "                        <td id=\"T_234f0c14_31d9_11eb_b746_a08869e6c543row0_col0\" class=\"data row0 col0\" >int64</td>\n",
       "                        <td id=\"T_234f0c14_31d9_11eb_b746_a08869e6c543row0_col1\" class=\"data row0 col1\" >891</td>\n",
       "                        <td id=\"T_234f0c14_31d9_11eb_b746_a08869e6c543row0_col2\" class=\"data row0 col2\" >0</td>\n",
       "                        <td id=\"T_234f0c14_31d9_11eb_b746_a08869e6c543row0_col3\" class=\"data row0 col3\" >0.000000</td>\n",
       "                        <td id=\"T_234f0c14_31d9_11eb_b746_a08869e6c543row0_col4\" class=\"data row0 col4\" >891</td>\n",
       "            </tr>\n",
       "            <tr>\n",
       "                        <th id=\"T_234f0c14_31d9_11eb_b746_a08869e6c543level0_row1\" class=\"row_heading level0 row1\" >Survived</th>\n",
       "                        <td id=\"T_234f0c14_31d9_11eb_b746_a08869e6c543row1_col0\" class=\"data row1 col0\" >int64</td>\n",
       "                        <td id=\"T_234f0c14_31d9_11eb_b746_a08869e6c543row1_col1\" class=\"data row1 col1\" >891</td>\n",
       "                        <td id=\"T_234f0c14_31d9_11eb_b746_a08869e6c543row1_col2\" class=\"data row1 col2\" >0</td>\n",
       "                        <td id=\"T_234f0c14_31d9_11eb_b746_a08869e6c543row1_col3\" class=\"data row1 col3\" >0.000000</td>\n",
       "                        <td id=\"T_234f0c14_31d9_11eb_b746_a08869e6c543row1_col4\" class=\"data row1 col4\" >2</td>\n",
       "            </tr>\n",
       "            <tr>\n",
       "                        <th id=\"T_234f0c14_31d9_11eb_b746_a08869e6c543level0_row2\" class=\"row_heading level0 row2\" >Pclass</th>\n",
       "                        <td id=\"T_234f0c14_31d9_11eb_b746_a08869e6c543row2_col0\" class=\"data row2 col0\" >int64</td>\n",
       "                        <td id=\"T_234f0c14_31d9_11eb_b746_a08869e6c543row2_col1\" class=\"data row2 col1\" >891</td>\n",
       "                        <td id=\"T_234f0c14_31d9_11eb_b746_a08869e6c543row2_col2\" class=\"data row2 col2\" >0</td>\n",
       "                        <td id=\"T_234f0c14_31d9_11eb_b746_a08869e6c543row2_col3\" class=\"data row2 col3\" >0.000000</td>\n",
       "                        <td id=\"T_234f0c14_31d9_11eb_b746_a08869e6c543row2_col4\" class=\"data row2 col4\" >3</td>\n",
       "            </tr>\n",
       "            <tr>\n",
       "                        <th id=\"T_234f0c14_31d9_11eb_b746_a08869e6c543level0_row3\" class=\"row_heading level0 row3\" >Name</th>\n",
       "                        <td id=\"T_234f0c14_31d9_11eb_b746_a08869e6c543row3_col0\" class=\"data row3 col0\" >object</td>\n",
       "                        <td id=\"T_234f0c14_31d9_11eb_b746_a08869e6c543row3_col1\" class=\"data row3 col1\" >891</td>\n",
       "                        <td id=\"T_234f0c14_31d9_11eb_b746_a08869e6c543row3_col2\" class=\"data row3 col2\" >0</td>\n",
       "                        <td id=\"T_234f0c14_31d9_11eb_b746_a08869e6c543row3_col3\" class=\"data row3 col3\" >0.000000</td>\n",
       "                        <td id=\"T_234f0c14_31d9_11eb_b746_a08869e6c543row3_col4\" class=\"data row3 col4\" >891</td>\n",
       "            </tr>\n",
       "            <tr>\n",
       "                        <th id=\"T_234f0c14_31d9_11eb_b746_a08869e6c543level0_row4\" class=\"row_heading level0 row4\" >Sex</th>\n",
       "                        <td id=\"T_234f0c14_31d9_11eb_b746_a08869e6c543row4_col0\" class=\"data row4 col0\" >object</td>\n",
       "                        <td id=\"T_234f0c14_31d9_11eb_b746_a08869e6c543row4_col1\" class=\"data row4 col1\" >891</td>\n",
       "                        <td id=\"T_234f0c14_31d9_11eb_b746_a08869e6c543row4_col2\" class=\"data row4 col2\" >0</td>\n",
       "                        <td id=\"T_234f0c14_31d9_11eb_b746_a08869e6c543row4_col3\" class=\"data row4 col3\" >0.000000</td>\n",
       "                        <td id=\"T_234f0c14_31d9_11eb_b746_a08869e6c543row4_col4\" class=\"data row4 col4\" >2</td>\n",
       "            </tr>\n",
       "            <tr>\n",
       "                        <th id=\"T_234f0c14_31d9_11eb_b746_a08869e6c543level0_row5\" class=\"row_heading level0 row5\" >Age</th>\n",
       "                        <td id=\"T_234f0c14_31d9_11eb_b746_a08869e6c543row5_col0\" class=\"data row5 col0\" >float64</td>\n",
       "                        <td id=\"T_234f0c14_31d9_11eb_b746_a08869e6c543row5_col1\" class=\"data row5 col1\" >714</td>\n",
       "                        <td id=\"T_234f0c14_31d9_11eb_b746_a08869e6c543row5_col2\" class=\"data row5 col2\" >177</td>\n",
       "                        <td id=\"T_234f0c14_31d9_11eb_b746_a08869e6c543row5_col3\" class=\"data row5 col3\" >0.250000</td>\n",
       "                        <td id=\"T_234f0c14_31d9_11eb_b746_a08869e6c543row5_col4\" class=\"data row5 col4\" >88</td>\n",
       "            </tr>\n",
       "            <tr>\n",
       "                        <th id=\"T_234f0c14_31d9_11eb_b746_a08869e6c543level0_row6\" class=\"row_heading level0 row6\" >SibSp</th>\n",
       "                        <td id=\"T_234f0c14_31d9_11eb_b746_a08869e6c543row6_col0\" class=\"data row6 col0\" >int64</td>\n",
       "                        <td id=\"T_234f0c14_31d9_11eb_b746_a08869e6c543row6_col1\" class=\"data row6 col1\" >891</td>\n",
       "                        <td id=\"T_234f0c14_31d9_11eb_b746_a08869e6c543row6_col2\" class=\"data row6 col2\" >0</td>\n",
       "                        <td id=\"T_234f0c14_31d9_11eb_b746_a08869e6c543row6_col3\" class=\"data row6 col3\" >0.000000</td>\n",
       "                        <td id=\"T_234f0c14_31d9_11eb_b746_a08869e6c543row6_col4\" class=\"data row6 col4\" >7</td>\n",
       "            </tr>\n",
       "            <tr>\n",
       "                        <th id=\"T_234f0c14_31d9_11eb_b746_a08869e6c543level0_row7\" class=\"row_heading level0 row7\" >Parch</th>\n",
       "                        <td id=\"T_234f0c14_31d9_11eb_b746_a08869e6c543row7_col0\" class=\"data row7 col0\" >int64</td>\n",
       "                        <td id=\"T_234f0c14_31d9_11eb_b746_a08869e6c543row7_col1\" class=\"data row7 col1\" >891</td>\n",
       "                        <td id=\"T_234f0c14_31d9_11eb_b746_a08869e6c543row7_col2\" class=\"data row7 col2\" >0</td>\n",
       "                        <td id=\"T_234f0c14_31d9_11eb_b746_a08869e6c543row7_col3\" class=\"data row7 col3\" >0.000000</td>\n",
       "                        <td id=\"T_234f0c14_31d9_11eb_b746_a08869e6c543row7_col4\" class=\"data row7 col4\" >7</td>\n",
       "            </tr>\n",
       "            <tr>\n",
       "                        <th id=\"T_234f0c14_31d9_11eb_b746_a08869e6c543level0_row8\" class=\"row_heading level0 row8\" >Ticket</th>\n",
       "                        <td id=\"T_234f0c14_31d9_11eb_b746_a08869e6c543row8_col0\" class=\"data row8 col0\" >object</td>\n",
       "                        <td id=\"T_234f0c14_31d9_11eb_b746_a08869e6c543row8_col1\" class=\"data row8 col1\" >891</td>\n",
       "                        <td id=\"T_234f0c14_31d9_11eb_b746_a08869e6c543row8_col2\" class=\"data row8 col2\" >0</td>\n",
       "                        <td id=\"T_234f0c14_31d9_11eb_b746_a08869e6c543row8_col3\" class=\"data row8 col3\" >0.000000</td>\n",
       "                        <td id=\"T_234f0c14_31d9_11eb_b746_a08869e6c543row8_col4\" class=\"data row8 col4\" >681</td>\n",
       "            </tr>\n",
       "            <tr>\n",
       "                        <th id=\"T_234f0c14_31d9_11eb_b746_a08869e6c543level0_row9\" class=\"row_heading level0 row9\" >Fare</th>\n",
       "                        <td id=\"T_234f0c14_31d9_11eb_b746_a08869e6c543row9_col0\" class=\"data row9 col0\" >float64</td>\n",
       "                        <td id=\"T_234f0c14_31d9_11eb_b746_a08869e6c543row9_col1\" class=\"data row9 col1\" >891</td>\n",
       "                        <td id=\"T_234f0c14_31d9_11eb_b746_a08869e6c543row9_col2\" class=\"data row9 col2\" >0</td>\n",
       "                        <td id=\"T_234f0c14_31d9_11eb_b746_a08869e6c543row9_col3\" class=\"data row9 col3\" >0.000000</td>\n",
       "                        <td id=\"T_234f0c14_31d9_11eb_b746_a08869e6c543row9_col4\" class=\"data row9 col4\" >248</td>\n",
       "            </tr>\n",
       "            <tr>\n",
       "                        <th id=\"T_234f0c14_31d9_11eb_b746_a08869e6c543level0_row10\" class=\"row_heading level0 row10\" >Cabin</th>\n",
       "                        <td id=\"T_234f0c14_31d9_11eb_b746_a08869e6c543row10_col0\" class=\"data row10 col0\" >object</td>\n",
       "                        <td id=\"T_234f0c14_31d9_11eb_b746_a08869e6c543row10_col1\" class=\"data row10 col1\" >204</td>\n",
       "                        <td id=\"T_234f0c14_31d9_11eb_b746_a08869e6c543row10_col2\" class=\"data row10 col2\" >687</td>\n",
       "                        <td id=\"T_234f0c14_31d9_11eb_b746_a08869e6c543row10_col3\" class=\"data row10 col3\" >3.370000</td>\n",
       "                        <td id=\"T_234f0c14_31d9_11eb_b746_a08869e6c543row10_col4\" class=\"data row10 col4\" >147</td>\n",
       "            </tr>\n",
       "            <tr>\n",
       "                        <th id=\"T_234f0c14_31d9_11eb_b746_a08869e6c543level0_row11\" class=\"row_heading level0 row11\" >Embarked</th>\n",
       "                        <td id=\"T_234f0c14_31d9_11eb_b746_a08869e6c543row11_col0\" class=\"data row11 col0\" >object</td>\n",
       "                        <td id=\"T_234f0c14_31d9_11eb_b746_a08869e6c543row11_col1\" class=\"data row11 col1\" >889</td>\n",
       "                        <td id=\"T_234f0c14_31d9_11eb_b746_a08869e6c543row11_col2\" class=\"data row11 col2\" >2</td>\n",
       "                        <td id=\"T_234f0c14_31d9_11eb_b746_a08869e6c543row11_col3\" class=\"data row11 col3\" >0.000000</td>\n",
       "                        <td id=\"T_234f0c14_31d9_11eb_b746_a08869e6c543row11_col4\" class=\"data row11 col4\" >3</td>\n",
       "            </tr>\n",
       "    </tbody></table>"
      ],
      "text/plain": [
       "<pandas.io.formats.style.Styler at 0x15dc1cb5670>"
      ]
     },
     "execution_count": 15,
     "metadata": {},
     "output_type": "execute_result"
    }
   ],
   "source": [
    "datadict.sort_values(by=['dtype', 'missing_per'], ascending=False)\n",
    "datadict.style.background_gradient(cmap=cmap) "
   ]
  },
  {
   "cell_type": "markdown",
   "metadata": {},
   "source": [
    "- Most of the data is numerical, 7 columns are numerical type and 5 are object / str type. \n",
    "- Some data is missing for columns `Age` and `Cabin`"
   ]
  },
  {
   "cell_type": "markdown",
   "metadata": {},
   "source": [
    "#### Descriptive Statitics Summary"
   ]
  },
  {
   "cell_type": "code",
   "execution_count": 16,
   "metadata": {},
   "outputs": [
    {
     "data": {
      "text/html": [
       "<div>\n",
       "<style scoped>\n",
       "    .dataframe tbody tr th:only-of-type {\n",
       "        vertical-align: middle;\n",
       "    }\n",
       "\n",
       "    .dataframe tbody tr th {\n",
       "        vertical-align: top;\n",
       "    }\n",
       "\n",
       "    .dataframe thead th {\n",
       "        text-align: right;\n",
       "    }\n",
       "</style>\n",
       "<table border=\"1\" class=\"dataframe\">\n",
       "  <thead>\n",
       "    <tr style=\"text-align: right;\">\n",
       "      <th></th>\n",
       "      <th>Name</th>\n",
       "      <th>Sex</th>\n",
       "      <th>Ticket</th>\n",
       "      <th>Cabin</th>\n",
       "      <th>Embarked</th>\n",
       "    </tr>\n",
       "  </thead>\n",
       "  <tbody>\n",
       "    <tr>\n",
       "      <th>count</th>\n",
       "      <td>891</td>\n",
       "      <td>891</td>\n",
       "      <td>891</td>\n",
       "      <td>204</td>\n",
       "      <td>889</td>\n",
       "    </tr>\n",
       "    <tr>\n",
       "      <th>unique</th>\n",
       "      <td>891</td>\n",
       "      <td>2</td>\n",
       "      <td>681</td>\n",
       "      <td>147</td>\n",
       "      <td>3</td>\n",
       "    </tr>\n",
       "    <tr>\n",
       "      <th>top</th>\n",
       "      <td>Elias, Mr. Tannous</td>\n",
       "      <td>male</td>\n",
       "      <td>1601</td>\n",
       "      <td>G6</td>\n",
       "      <td>S</td>\n",
       "    </tr>\n",
       "    <tr>\n",
       "      <th>freq</th>\n",
       "      <td>1</td>\n",
       "      <td>577</td>\n",
       "      <td>7</td>\n",
       "      <td>4</td>\n",
       "      <td>644</td>\n",
       "    </tr>\n",
       "  </tbody>\n",
       "</table>\n",
       "</div>"
      ],
      "text/plain": [
       "                      Name   Sex Ticket Cabin Embarked\n",
       "count                  891   891    891   204      889\n",
       "unique                 891     2    681   147        3\n",
       "top     Elias, Mr. Tannous  male   1601    G6        S\n",
       "freq                     1   577      7     4      644"
      ]
     },
     "execution_count": 16,
     "metadata": {},
     "output_type": "execute_result"
    }
   ],
   "source": [
    "# get discripte statistcs on \"object\" datatypes\n",
    "df_train.describe(include=['object'])"
   ]
  },
  {
   "cell_type": "markdown",
   "metadata": {},
   "source": [
    "- `Cabin` has missing data for around 77% of the rows, this could cause bais in the model so we will drop this column later.\n",
    "- `Age` column has 20% missing data, we will replace missing values with `mean` or 'median` depending upon the distribution of data\n",
    "- `Embarked` has missing data for 2 rows, we will drop these 2 rows"
   ]
  },
  {
   "cell_type": "code",
   "execution_count": 17,
   "metadata": {},
   "outputs": [
    {
     "data": {
      "text/html": [
       "<div>\n",
       "<style scoped>\n",
       "    .dataframe tbody tr th:only-of-type {\n",
       "        vertical-align: middle;\n",
       "    }\n",
       "\n",
       "    .dataframe tbody tr th {\n",
       "        vertical-align: top;\n",
       "    }\n",
       "\n",
       "    .dataframe thead th {\n",
       "        text-align: right;\n",
       "    }\n",
       "</style>\n",
       "<table border=\"1\" class=\"dataframe\">\n",
       "  <thead>\n",
       "    <tr style=\"text-align: right;\">\n",
       "      <th></th>\n",
       "      <th>PassengerId</th>\n",
       "      <th>Survived</th>\n",
       "      <th>Pclass</th>\n",
       "      <th>Age</th>\n",
       "      <th>SibSp</th>\n",
       "      <th>Parch</th>\n",
       "      <th>Fare</th>\n",
       "    </tr>\n",
       "  </thead>\n",
       "  <tbody>\n",
       "    <tr>\n",
       "      <th>count</th>\n",
       "      <td>891.000000</td>\n",
       "      <td>891.000000</td>\n",
       "      <td>891.000000</td>\n",
       "      <td>714.000000</td>\n",
       "      <td>891.000000</td>\n",
       "      <td>891.000000</td>\n",
       "      <td>891.000000</td>\n",
       "    </tr>\n",
       "    <tr>\n",
       "      <th>mean</th>\n",
       "      <td>446.000000</td>\n",
       "      <td>0.383838</td>\n",
       "      <td>2.308642</td>\n",
       "      <td>29.699118</td>\n",
       "      <td>0.523008</td>\n",
       "      <td>0.381594</td>\n",
       "      <td>32.204208</td>\n",
       "    </tr>\n",
       "    <tr>\n",
       "      <th>std</th>\n",
       "      <td>257.353842</td>\n",
       "      <td>0.486592</td>\n",
       "      <td>0.836071</td>\n",
       "      <td>14.526497</td>\n",
       "      <td>1.102743</td>\n",
       "      <td>0.806057</td>\n",
       "      <td>49.693429</td>\n",
       "    </tr>\n",
       "    <tr>\n",
       "      <th>min</th>\n",
       "      <td>1.000000</td>\n",
       "      <td>0.000000</td>\n",
       "      <td>1.000000</td>\n",
       "      <td>0.420000</td>\n",
       "      <td>0.000000</td>\n",
       "      <td>0.000000</td>\n",
       "      <td>0.000000</td>\n",
       "    </tr>\n",
       "    <tr>\n",
       "      <th>25%</th>\n",
       "      <td>223.500000</td>\n",
       "      <td>0.000000</td>\n",
       "      <td>2.000000</td>\n",
       "      <td>20.125000</td>\n",
       "      <td>0.000000</td>\n",
       "      <td>0.000000</td>\n",
       "      <td>7.910400</td>\n",
       "    </tr>\n",
       "    <tr>\n",
       "      <th>50%</th>\n",
       "      <td>446.000000</td>\n",
       "      <td>0.000000</td>\n",
       "      <td>3.000000</td>\n",
       "      <td>28.000000</td>\n",
       "      <td>0.000000</td>\n",
       "      <td>0.000000</td>\n",
       "      <td>14.454200</td>\n",
       "    </tr>\n",
       "    <tr>\n",
       "      <th>75%</th>\n",
       "      <td>668.500000</td>\n",
       "      <td>1.000000</td>\n",
       "      <td>3.000000</td>\n",
       "      <td>38.000000</td>\n",
       "      <td>1.000000</td>\n",
       "      <td>0.000000</td>\n",
       "      <td>31.000000</td>\n",
       "    </tr>\n",
       "    <tr>\n",
       "      <th>max</th>\n",
       "      <td>891.000000</td>\n",
       "      <td>1.000000</td>\n",
       "      <td>3.000000</td>\n",
       "      <td>80.000000</td>\n",
       "      <td>8.000000</td>\n",
       "      <td>6.000000</td>\n",
       "      <td>512.329200</td>\n",
       "    </tr>\n",
       "  </tbody>\n",
       "</table>\n",
       "</div>"
      ],
      "text/plain": [
       "       PassengerId    Survived      Pclass         Age       SibSp  \\\n",
       "count   891.000000  891.000000  891.000000  714.000000  891.000000   \n",
       "mean    446.000000    0.383838    2.308642   29.699118    0.523008   \n",
       "std     257.353842    0.486592    0.836071   14.526497    1.102743   \n",
       "min       1.000000    0.000000    1.000000    0.420000    0.000000   \n",
       "25%     223.500000    0.000000    2.000000   20.125000    0.000000   \n",
       "50%     446.000000    0.000000    3.000000   28.000000    0.000000   \n",
       "75%     668.500000    1.000000    3.000000   38.000000    1.000000   \n",
       "max     891.000000    1.000000    3.000000   80.000000    8.000000   \n",
       "\n",
       "            Parch        Fare  \n",
       "count  891.000000  891.000000  \n",
       "mean     0.381594   32.204208  \n",
       "std      0.806057   49.693429  \n",
       "min      0.000000    0.000000  \n",
       "25%      0.000000    7.910400  \n",
       "50%      0.000000   14.454200  \n",
       "75%      0.000000   31.000000  \n",
       "max      6.000000  512.329200  "
      ]
     },
     "execution_count": 17,
     "metadata": {},
     "output_type": "execute_result"
    }
   ],
   "source": [
    "# get discriptive statistcs on \"number\" datatypes\n",
    "subset=['Survived', 'Pclass', 'Age', 'SibSp', 'Parch', 'Fare']\n",
    "df_train.describe(include=['number'])"
   ]
  },
  {
   "cell_type": "markdown",
   "metadata": {},
   "source": [
    "- Survival rate is 38%\n",
    "- Mean age of passengers is 30 years, around 75% passengers are below38 years. Some data is missing for Age column.\n",
    "- Maximum fare is 512, whie 75% passengers's fare is around 31. Most of passengers must be travelling with lower class tickets. Also this suggests that there might be some outliers."
   ]
  },
  {
   "cell_type": "markdown",
   "metadata": {},
   "source": [
    "#### Univariate Analysis"
   ]
  },
  {
   "cell_type": "markdown",
   "metadata": {},
   "source": [
    "Univariate analysis is the technique of comparing and analyzing the dependency of a single predictor and a response variable. The prefix \"uni\" means one, emphasizing the fact that the analysis only accounts for one variable's effect on a dependent variable. Univariate Analysis is thought to be one of the simplest forms of data analysis as it doesn't deal with causes or relationships, like a regression would. Primarily, Univariate Analysis simply takes data and provides a summary and associated patterns. "
   ]
  },
  {
   "cell_type": "code",
   "execution_count": 18,
   "metadata": {},
   "outputs": [],
   "source": [
    "survive_per = df_eda['Survived'].value_counts(normalize=True)"
   ]
  },
  {
   "cell_type": "code",
   "execution_count": 19,
   "metadata": {},
   "outputs": [
    {
     "data": {
      "image/png": "[encoded data removed]",
      "text/plain": [
       "<Figure size 432x288 with 1 Axes>"
      ]
     },
     "metadata": {},
     "output_type": "display_data"
    }
   ],
   "source": [
    "fig, ax = plt.subplots(nrows=1, ncols=1, figsize=(6, 4))\n",
    "\n",
    "survive_per.plot(kind='pie', \n",
    "                 autopct='%.2f',\n",
    "                 labels=None,\n",
    "                 startangle = 180)\n",
    "\n",
    "ax.set(ylabel='')\n",
    "\n",
    "# add horizontal line\n",
    "line = lines.Line2D([0, 1], [0.95, 0.95], transform=fig.transFigure, zorder=1000, figure=fig)\n",
    "fig.lines.extend([line])\n",
    "\n",
    "# add figure text\n",
    "fig.text(0, 0.98, 'Pieplot for Survival Rate', fontdict=fig_title_prop)\n",
    "\n",
    "plt.legend(labels=['Not Survived', 'Survived'], loc=(0,0), edgecolor='None', ncol=2, bbox_transform=True)\n",
    "plt.tight_layout()\n",
    "plt.show()"
   ]
  },
  {
   "cell_type": "markdown",
   "metadata": {},
   "source": [
    "Out of 891 passengers, only 38% survived, while majority 61% the passenger did not survive the disaster."
   ]
  },
  {
   "cell_type": "code",
   "execution_count": 20,
   "metadata": {},
   "outputs": [
    {
     "data": {
      "image/png": "[encoded data removed]",
      "text/plain": [
       "<Figure size 720x360 with 6 Axes>"
      ]
     },
     "metadata": {},
     "output_type": "display_data"
    }
   ],
   "source": [
    "col_names = ['Survived', 'Pclass', 'Sex', 'SibSp', 'Parch', 'Embarked']\n",
    "sub_count = 1\n",
    "\n",
    "fig, axes = plt.subplots(nrows=2, ncols=3, figsize=(10,5))\n",
    "fig.subplots_adjust(hspace=0.5)\n",
    "# fig.suptitle('Countplot for Discrete Data', fontsize=15, fontweight=200)\n",
    "\n",
    "for ax, feature in zip(axes.flatten(), df_eda[col_names].columns):\n",
    "    ax.set(title='Countplot #{}: {}'.format(sub_count, feature))\n",
    "    ax.xaxis.label.set_visible(False)\n",
    "    sns.countplot(df_eda[feature],ax=ax)\n",
    "    sub_count += 1\n",
    "\n",
    "# add horizontal line\n",
    "line = lines.Line2D([0, 1], [1.05, 1.05], transform=fig.transFigure, zorder=1000, figure=fig)\n",
    "fig.lines.extend([line])\n",
    "\n",
    "fig.text(0, 1.08, 'Countplot for Discrete Data', fontdict=fig_title_prop)\n",
    "\n",
    "plt.tight_layout()\n",
    "plt.show()"
   ]
  },
  {
   "cell_type": "markdown",
   "metadata": {},
   "source": [
    "💡 Tip: In case we want to create multiple `displot` we won't be able to do so with same for loop method as above, why?\n",
    "- [Difference between displot vs histplot](https://stackoverflow.com/a/63895570/8390360)\n",
    "- [How to create multiple displot in same figure](https://stackoverflow.com/a/63974061/8390360)"
   ]
  },
  {
   "cell_type": "code",
   "execution_count": 21,
   "metadata": {},
   "outputs": [],
   "source": [
    "def triple_plot(data, title, c):\n",
    "    fig, ax = plt.subplots(3,1,figsize=(12,6),sharex=True)\n",
    "        \n",
    "    # add distribution plot\n",
    "    sns.distplot(data, ax=ax[0],color=c)\n",
    "    ax[0].set(xlabel=None)\n",
    "    ax[0].set_title('Histogram + KDE')\n",
    "    \n",
    "    # add box plot\n",
    "    sns.boxplot(data, ax=ax[1],color=c)\n",
    "    ax[1].set(xlabel=None)\n",
    "    ax[1].set_title('Boxplot')\n",
    "    \n",
    "    # add voilin plot\n",
    "    sns.violinplot(data, ax=ax[2],color=c)\n",
    "    ax[2].set(xlabel=None)\n",
    "    ax[2].set_title('Violin plot')\n",
    "    \n",
    "    # add figure title line\n",
    "    line = lines.Line2D([0, 1], [1, 1], transform=fig.transFigure, zorder=1000, figure=fig)\n",
    "    fig.lines.extend([line])\n",
    "    \n",
    "    # add title\n",
    "    fig.text(x=0, y=1.03, s=title, fontdict=fig_title_prop)\n",
    "     \n",
    "    plt.tight_layout(pad=3.0)\n",
    "    plt.show()"
   ]
  },
  {
   "cell_type": "code",
   "execution_count": 22,
   "metadata": {},
   "outputs": [
    {
     "data": {
      "image/png": "[encoded data removed]",
      "text/plain": [
       "<Figure size 864x432 with 3 Axes>"
      ]
     },
     "metadata": {},
     "output_type": "display_data"
    }
   ],
   "source": [
    "triple_plot(df_eda['Age'], 'Distribution of Age', customPalette[1])"
   ]
  },
  {
   "cell_type": "code",
   "execution_count": 23,
   "metadata": {},
   "outputs": [
    {
     "data": {
      "image/png": "[encoded data removed]",
      "text/plain": [
       "<Figure size 864x432 with 3 Axes>"
      ]
     },
     "metadata": {},
     "output_type": "display_data"
    }
   ],
   "source": [
    "triple_plot(df_eda['Fare'], 'Distribution of Fare', customPalette[0])"
   ]
  },
  {
   "cell_type": "markdown",
   "metadata": {},
   "source": [
    "Form these 2 plots we can gather that :\n",
    "- For `Age` feature data is fairly normally distributed while `Fare` has high skewness which could be due to outlers. Next we will take a look at skewness and kurtosis for both `Age` and `Fare'\n",
    "- From boxplot it is clear `Fare` feature has some high value outliers, we will check what are these outliers and what should we do with them.\n",
    "- Also it is clear that most of `Fare` data is concentrated towards less values which indicates and also confirms that majority of people onboard purchased cheap tickets and thus there were more passengers with 3rd Class tickets, we can confirm this by checking correlation between `Fare` and `Pclass` features."
   ]
  },
  {
   "cell_type": "markdown",
   "metadata": {},
   "source": [
    "Let's check the values count of both `Age` greater than 100 and `Fare` greater than 300."
   ]
  },
  {
   "cell_type": "markdown",
   "metadata": {},
   "source": [
    "💡 Tip: `value_counts()` is a Series method as doesn't apply on DataFrame. If we have to apply it on DataFrame then we have to first flatten() the DataFrame and then use `pd.value_counts(flattened DataFrae)` method. "
   ]
  },
  {
   "cell_type": "code",
   "execution_count": 24,
   "metadata": {},
   "outputs": [
    {
     "data": {
      "text/plain": [
       "0"
      ]
     },
     "execution_count": 24,
     "metadata": {},
     "output_type": "execute_result"
    }
   ],
   "source": [
    "pd.value_counts(df_eda[df_eda['Age'] > 80]['Age'].values.flatten()).sum()"
   ]
  },
  {
   "cell_type": "code",
   "execution_count": 25,
   "metadata": {},
   "outputs": [
    {
     "data": {
      "text/plain": [
       "3"
      ]
     },
     "execution_count": 25,
     "metadata": {},
     "output_type": "execute_result"
    }
   ],
   "source": [
    "pd.value_counts(df_eda[df_eda['Fare'] > 300]['Fare'].values.flatten()).sum()"
   ]
  },
  {
   "cell_type": "markdown",
   "metadata": {},
   "source": [
    "* There is no passenger above 80\n",
    "* There are 3 passengers whose fare is greater than 300"
   ]
  },
  {
   "cell_type": "code",
   "execution_count": 26,
   "metadata": {},
   "outputs": [
    {
     "data": {
      "image/png": "[encoded data removed]",
      "text/plain": [
       "<Figure size 864x360 with 2 Axes>"
      ]
     },
     "metadata": {},
     "output_type": "display_data"
    }
   ],
   "source": [
    "data = df_eda[['Age', 'Fare']]\n",
    "\n",
    "fig, ax = plt.subplots(1, 2, figsize=(12, 5), sharex=False, sharey=False)\n",
    "fig.subplots_adjust(hspace=0.5, wspace=0.5)\n",
    "\n",
    "for ax, feature, color in zip(ax.flatten(), data.columns, customPalette[:2]):\n",
    "    g = sns.histplot(data[feature], kde=True,ax=ax, color = color)\n",
    "    ax.xaxis.label.set_visible(False)\n",
    "    ax.yaxis.label.set_visible(False)\n",
    "    ax.set(title = '{}'.format(feature))\n",
    "    ax.text(x=0.97, y=0.90, transform=ax.transAxes, s=\"Skewness: %.2f\" % data[feature].skew(),\n",
    "            fontweight='demibold', fontsize=10, verticalalignment='top', horizontalalignment='right',\n",
    "            backgroundcolor='white')\n",
    "    ax.text(x=0.97, y=0.84, transform=ax.transAxes, s=\"Kurtosis: %.2f\" % data[feature].kurt(),\n",
    "        fontweight='demibold', fontsize=10, verticalalignment='top', horizontalalignment='right',\n",
    "        backgroundcolor='white')\n",
    "\n",
    "# add horizontal line\n",
    "line = lines.Line2D([0, 1], [1, 1], transform=fig.transFigure, zorder=1000, figure=fig)\n",
    "fig.lines.extend([line])\n",
    "\n",
    "# add figure text as title\n",
    "fig.text(0, 1.03, 'Distribution Plot For Age and Fare', fontdict=fig_title_prop)\n",
    "\n",
    "plt.tight_layout()\n",
    "plt.show()"
   ]
  },
  {
   "cell_type": "markdown",
   "metadata": {},
   "source": [
    "Based on skewness and kurtosis values for `Age` column we can say that data is faily normally distributed while for `Fare` column we can say data is highly positvely skwed and also has presensce of outliers as kurtosis is very high.\n",
    "\n",
    "We will check the characterstics of outlier's values in `Fare` feature based on which we will decide action in feature engineering section."
   ]
  },
  {
   "cell_type": "markdown",
   "metadata": {},
   "source": [
    "### Multivariate Analysis"
   ]
  },
  {
   "cell_type": "markdown",
   "metadata": {},
   "source": [
    "Multivariate data analysis is a set of statistical models that examine patterns in multidimensional data by considering, at once, several data variables. It is an expansion of bivariate data analysis, which considers only two variables in its models."
   ]
  },
  {
   "cell_type": "code",
   "execution_count": 27,
   "metadata": {},
   "outputs": [
    {
     "data": {
      "text/html": [
       "<style  type=\"text/css\" >\n",
       "    #T_25be9adb_31d9_11eb_b1f0_a08869e6c543row0_col0 {\n",
       "            background-color:  #023858;\n",
       "            color:  #f1f1f1;\n",
       "        }    #T_25be9adb_31d9_11eb_b1f0_a08869e6c543row0_col1 {\n",
       "            background-color:  #d1d2e6;\n",
       "            color:  #000000;\n",
       "        }    #T_25be9adb_31d9_11eb_b1f0_a08869e6c543row0_col2 {\n",
       "            background-color:  #b5c4df;\n",
       "            color:  #000000;\n",
       "        }    #T_25be9adb_31d9_11eb_b1f0_a08869e6c543row0_col3 {\n",
       "            background-color:  #c1cae2;\n",
       "            color:  #000000;\n",
       "        }    #T_25be9adb_31d9_11eb_b1f0_a08869e6c543row0_col4 {\n",
       "            background-color:  #dddbec;\n",
       "            color:  #000000;\n",
       "        }    #T_25be9adb_31d9_11eb_b1f0_a08869e6c543row0_col5 {\n",
       "            background-color:  #e5e1ef;\n",
       "            color:  #000000;\n",
       "        }    #T_25be9adb_31d9_11eb_b1f0_a08869e6c543row0_col6 {\n",
       "            background-color:  #abbfdc;\n",
       "            color:  #000000;\n",
       "        }    #T_25be9adb_31d9_11eb_b1f0_a08869e6c543row1_col0 {\n",
       "            background-color:  #f8f1f8;\n",
       "            color:  #000000;\n",
       "        }    #T_25be9adb_31d9_11eb_b1f0_a08869e6c543row1_col1 {\n",
       "            background-color:  #023858;\n",
       "            color:  #f1f1f1;\n",
       "        }    #T_25be9adb_31d9_11eb_b1f0_a08869e6c543row1_col2 {\n",
       "            background-color:  #eae6f1;\n",
       "            color:  #000000;\n",
       "        }    #T_25be9adb_31d9_11eb_b1f0_a08869e6c543row1_col3 {\n",
       "            background-color:  #d9d8ea;\n",
       "            color:  #000000;\n",
       "        }    #T_25be9adb_31d9_11eb_b1f0_a08869e6c543row1_col4 {\n",
       "            background-color:  #d9d8ea;\n",
       "            color:  #000000;\n",
       "        }    #T_25be9adb_31d9_11eb_b1f0_a08869e6c543row1_col5 {\n",
       "            background-color:  #d5d5e8;\n",
       "            color:  #000000;\n",
       "        }    #T_25be9adb_31d9_11eb_b1f0_a08869e6c543row1_col6 {\n",
       "            background-color:  #69a5cc;\n",
       "            color:  #000000;\n",
       "        }    #T_25be9adb_31d9_11eb_b1f0_a08869e6c543row2_col0 {\n",
       "            background-color:  #fcf4fa;\n",
       "            color:  #000000;\n",
       "        }    #T_25be9adb_31d9_11eb_b1f0_a08869e6c543row2_col1 {\n",
       "            background-color:  #fff7fb;\n",
       "            color:  #000000;\n",
       "        }    #T_25be9adb_31d9_11eb_b1f0_a08869e6c543row2_col2 {\n",
       "            background-color:  #023858;\n",
       "            color:  #f1f1f1;\n",
       "        }    #T_25be9adb_31d9_11eb_b1f0_a08869e6c543row2_col3 {\n",
       "            background-color:  #fff7fb;\n",
       "            color:  #000000;\n",
       "        }    #T_25be9adb_31d9_11eb_b1f0_a08869e6c543row2_col4 {\n",
       "            background-color:  #c0c9e2;\n",
       "            color:  #000000;\n",
       "        }    #T_25be9adb_31d9_11eb_b1f0_a08869e6c543row2_col5 {\n",
       "            background-color:  #e1dfed;\n",
       "            color:  #000000;\n",
       "        }    #T_25be9adb_31d9_11eb_b1f0_a08869e6c543row2_col6 {\n",
       "            background-color:  #fff7fb;\n",
       "            color:  #000000;\n",
       "        }    #T_25be9adb_31d9_11eb_b1f0_a08869e6c543row3_col0 {\n",
       "            background-color:  #f2ecf5;\n",
       "            color:  #000000;\n",
       "        }    #T_25be9adb_31d9_11eb_b1f0_a08869e6c543row3_col1 {\n",
       "            background-color:  #dddbec;\n",
       "            color:  #000000;\n",
       "        }    #T_25be9adb_31d9_11eb_b1f0_a08869e6c543row3_col2 {\n",
       "            background-color:  #eee8f3;\n",
       "            color:  #000000;\n",
       "        }    #T_25be9adb_31d9_11eb_b1f0_a08869e6c543row3_col3 {\n",
       "            background-color:  #023858;\n",
       "            color:  #f1f1f1;\n",
       "        }    #T_25be9adb_31d9_11eb_b1f0_a08869e6c543row3_col4 {\n",
       "            background-color:  #fff7fb;\n",
       "            color:  #000000;\n",
       "        }    #T_25be9adb_31d9_11eb_b1f0_a08869e6c543row3_col5 {\n",
       "            background-color:  #fff7fb;\n",
       "            color:  #000000;\n",
       "        }    #T_25be9adb_31d9_11eb_b1f0_a08869e6c543row3_col6 {\n",
       "            background-color:  #96b6d7;\n",
       "            color:  #000000;\n",
       "        }    #T_25be9adb_31d9_11eb_b1f0_a08869e6c543row4_col0 {\n",
       "            background-color:  #fff7fb;\n",
       "            color:  #000000;\n",
       "        }    #T_25be9adb_31d9_11eb_b1f0_a08869e6c543row4_col1 {\n",
       "            background-color:  #d6d6e9;\n",
       "            color:  #000000;\n",
       "        }    #T_25be9adb_31d9_11eb_b1f0_a08869e6c543row4_col2 {\n",
       "            background-color:  #99b8d8;\n",
       "            color:  #000000;\n",
       "        }    #T_25be9adb_31d9_11eb_b1f0_a08869e6c543row4_col3 {\n",
       "            background-color:  #f8f1f8;\n",
       "            color:  #000000;\n",
       "        }    #T_25be9adb_31d9_11eb_b1f0_a08869e6c543row4_col4 {\n",
       "            background-color:  #023858;\n",
       "            color:  #f1f1f1;\n",
       "        }    #T_25be9adb_31d9_11eb_b1f0_a08869e6c543row4_col5 {\n",
       "            background-color:  #6fa7ce;\n",
       "            color:  #000000;\n",
       "        }    #T_25be9adb_31d9_11eb_b1f0_a08869e6c543row4_col6 {\n",
       "            background-color:  #84b0d3;\n",
       "            color:  #000000;\n",
       "        }    #T_25be9adb_31d9_11eb_b1f0_a08869e6c543row5_col0 {\n",
       "            background-color:  #f7f0f7;\n",
       "            color:  #000000;\n",
       "        }    #T_25be9adb_31d9_11eb_b1f0_a08869e6c543row5_col1 {\n",
       "            background-color:  #bbc7e0;\n",
       "            color:  #000000;\n",
       "        }    #T_25be9adb_31d9_11eb_b1f0_a08869e6c543row5_col2 {\n",
       "            background-color:  #a9bfdc;\n",
       "            color:  #000000;\n",
       "        }    #T_25be9adb_31d9_11eb_b1f0_a08869e6c543row5_col3 {\n",
       "            background-color:  #ebe6f2;\n",
       "            color:  #000000;\n",
       "        }    #T_25be9adb_31d9_11eb_b1f0_a08869e6c543row5_col4 {\n",
       "            background-color:  #5a9ec9;\n",
       "            color:  #000000;\n",
       "        }    #T_25be9adb_31d9_11eb_b1f0_a08869e6c543row5_col5 {\n",
       "            background-color:  #023858;\n",
       "            color:  #f1f1f1;\n",
       "        }    #T_25be9adb_31d9_11eb_b1f0_a08869e6c543row5_col6 {\n",
       "            background-color:  #76aad0;\n",
       "            color:  #000000;\n",
       "        }    #T_25be9adb_31d9_11eb_b1f0_a08869e6c543row6_col0 {\n",
       "            background-color:  #f5eff6;\n",
       "            color:  #000000;\n",
       "        }    #T_25be9adb_31d9_11eb_b1f0_a08869e6c543row6_col1 {\n",
       "            background-color:  #8bb2d4;\n",
       "            color:  #000000;\n",
       "        }    #T_25be9adb_31d9_11eb_b1f0_a08869e6c543row6_col2 {\n",
       "            background-color:  #fff7fb;\n",
       "            color:  #000000;\n",
       "        }    #T_25be9adb_31d9_11eb_b1f0_a08869e6c543row6_col3 {\n",
       "            background-color:  #b3c3de;\n",
       "            color:  #000000;\n",
       "        }    #T_25be9adb_31d9_11eb_b1f0_a08869e6c543row6_col4 {\n",
       "            background-color:  #acc0dd;\n",
       "            color:  #000000;\n",
       "        }    #T_25be9adb_31d9_11eb_b1f0_a08869e6c543row6_col5 {\n",
       "            background-color:  #b1c2de;\n",
       "            color:  #000000;\n",
       "        }    #T_25be9adb_31d9_11eb_b1f0_a08869e6c543row6_col6 {\n",
       "            background-color:  #023858;\n",
       "            color:  #f1f1f1;\n",
       "        }</style><table id=\"T_25be9adb_31d9_11eb_b1f0_a08869e6c543\" ><thead>    <tr>        <th class=\"blank level0\" ></th>        <th class=\"col_heading level0 col0\" >PassengerId</th>        <th class=\"col_heading level0 col1\" >Survived</th>        <th class=\"col_heading level0 col2\" >Pclass</th>        <th class=\"col_heading level0 col3\" >Age</th>        <th class=\"col_heading level0 col4\" >SibSp</th>        <th class=\"col_heading level0 col5\" >Parch</th>        <th class=\"col_heading level0 col6\" >Fare</th>    </tr></thead><tbody>\n",
       "                <tr>\n",
       "                        <th id=\"T_25be9adb_31d9_11eb_b1f0_a08869e6c543level0_row0\" class=\"row_heading level0 row0\" >PassengerId</th>\n",
       "                        <td id=\"T_25be9adb_31d9_11eb_b1f0_a08869e6c543row0_col0\" class=\"data row0 col0\" >1.000000</td>\n",
       "                        <td id=\"T_25be9adb_31d9_11eb_b1f0_a08869e6c543row0_col1\" class=\"data row0 col1\" >-0.005007</td>\n",
       "                        <td id=\"T_25be9adb_31d9_11eb_b1f0_a08869e6c543row0_col2\" class=\"data row0 col2\" >-0.035144</td>\n",
       "                        <td id=\"T_25be9adb_31d9_11eb_b1f0_a08869e6c543row0_col3\" class=\"data row0 col3\" >0.036847</td>\n",
       "                        <td id=\"T_25be9adb_31d9_11eb_b1f0_a08869e6c543row0_col4\" class=\"data row0 col4\" >-0.057527</td>\n",
       "                        <td id=\"T_25be9adb_31d9_11eb_b1f0_a08869e6c543row0_col5\" class=\"data row0 col5\" >-0.001652</td>\n",
       "                        <td id=\"T_25be9adb_31d9_11eb_b1f0_a08869e6c543row0_col6\" class=\"data row0 col6\" >0.012658</td>\n",
       "            </tr>\n",
       "            <tr>\n",
       "                        <th id=\"T_25be9adb_31d9_11eb_b1f0_a08869e6c543level0_row1\" class=\"row_heading level0 row1\" >Survived</th>\n",
       "                        <td id=\"T_25be9adb_31d9_11eb_b1f0_a08869e6c543row1_col0\" class=\"data row1 col0\" >-0.005007</td>\n",
       "                        <td id=\"T_25be9adb_31d9_11eb_b1f0_a08869e6c543row1_col1\" class=\"data row1 col1\" >1.000000</td>\n",
       "                        <td id=\"T_25be9adb_31d9_11eb_b1f0_a08869e6c543row1_col2\" class=\"data row1 col2\" >-0.338481</td>\n",
       "                        <td id=\"T_25be9adb_31d9_11eb_b1f0_a08869e6c543row1_col3\" class=\"data row1 col3\" >-0.077221</td>\n",
       "                        <td id=\"T_25be9adb_31d9_11eb_b1f0_a08869e6c543row1_col4\" class=\"data row1 col4\" >-0.035322</td>\n",
       "                        <td id=\"T_25be9adb_31d9_11eb_b1f0_a08869e6c543row1_col5\" class=\"data row1 col5\" >0.081629</td>\n",
       "                        <td id=\"T_25be9adb_31d9_11eb_b1f0_a08869e6c543row1_col6\" class=\"data row1 col6\" >0.257307</td>\n",
       "            </tr>\n",
       "            <tr>\n",
       "                        <th id=\"T_25be9adb_31d9_11eb_b1f0_a08869e6c543level0_row2\" class=\"row_heading level0 row2\" >Pclass</th>\n",
       "                        <td id=\"T_25be9adb_31d9_11eb_b1f0_a08869e6c543row2_col0\" class=\"data row2 col0\" >-0.035144</td>\n",
       "                        <td id=\"T_25be9adb_31d9_11eb_b1f0_a08869e6c543row2_col1\" class=\"data row2 col1\" >-0.338481</td>\n",
       "                        <td id=\"T_25be9adb_31d9_11eb_b1f0_a08869e6c543row2_col2\" class=\"data row2 col2\" >1.000000</td>\n",
       "                        <td id=\"T_25be9adb_31d9_11eb_b1f0_a08869e6c543row2_col3\" class=\"data row2 col3\" >-0.369226</td>\n",
       "                        <td id=\"T_25be9adb_31d9_11eb_b1f0_a08869e6c543row2_col4\" class=\"data row2 col4\" >0.083081</td>\n",
       "                        <td id=\"T_25be9adb_31d9_11eb_b1f0_a08869e6c543row2_col5\" class=\"data row2 col5\" >0.018443</td>\n",
       "                        <td id=\"T_25be9adb_31d9_11eb_b1f0_a08869e6c543row2_col6\" class=\"data row2 col6\" >-0.549500</td>\n",
       "            </tr>\n",
       "            <tr>\n",
       "                        <th id=\"T_25be9adb_31d9_11eb_b1f0_a08869e6c543level0_row3\" class=\"row_heading level0 row3\" >Age</th>\n",
       "                        <td id=\"T_25be9adb_31d9_11eb_b1f0_a08869e6c543row3_col0\" class=\"data row3 col0\" >0.036847</td>\n",
       "                        <td id=\"T_25be9adb_31d9_11eb_b1f0_a08869e6c543row3_col1\" class=\"data row3 col1\" >-0.077221</td>\n",
       "                        <td id=\"T_25be9adb_31d9_11eb_b1f0_a08869e6c543row3_col2\" class=\"data row3 col2\" >-0.369226</td>\n",
       "                        <td id=\"T_25be9adb_31d9_11eb_b1f0_a08869e6c543row3_col3\" class=\"data row3 col3\" >1.000000</td>\n",
       "                        <td id=\"T_25be9adb_31d9_11eb_b1f0_a08869e6c543row3_col4\" class=\"data row3 col4\" >-0.308247</td>\n",
       "                        <td id=\"T_25be9adb_31d9_11eb_b1f0_a08869e6c543row3_col5\" class=\"data row3 col5\" >-0.189119</td>\n",
       "                        <td id=\"T_25be9adb_31d9_11eb_b1f0_a08869e6c543row3_col6\" class=\"data row3 col6\" >0.096067</td>\n",
       "            </tr>\n",
       "            <tr>\n",
       "                        <th id=\"T_25be9adb_31d9_11eb_b1f0_a08869e6c543level0_row4\" class=\"row_heading level0 row4\" >SibSp</th>\n",
       "                        <td id=\"T_25be9adb_31d9_11eb_b1f0_a08869e6c543row4_col0\" class=\"data row4 col0\" >-0.057527</td>\n",
       "                        <td id=\"T_25be9adb_31d9_11eb_b1f0_a08869e6c543row4_col1\" class=\"data row4 col1\" >-0.035322</td>\n",
       "                        <td id=\"T_25be9adb_31d9_11eb_b1f0_a08869e6c543row4_col2\" class=\"data row4 col2\" >0.083081</td>\n",
       "                        <td id=\"T_25be9adb_31d9_11eb_b1f0_a08869e6c543row4_col3\" class=\"data row4 col3\" >-0.308247</td>\n",
       "                        <td id=\"T_25be9adb_31d9_11eb_b1f0_a08869e6c543row4_col4\" class=\"data row4 col4\" >1.000000</td>\n",
       "                        <td id=\"T_25be9adb_31d9_11eb_b1f0_a08869e6c543row4_col5\" class=\"data row4 col5\" >0.414838</td>\n",
       "                        <td id=\"T_25be9adb_31d9_11eb_b1f0_a08869e6c543row4_col6\" class=\"data row4 col6\" >0.159651</td>\n",
       "            </tr>\n",
       "            <tr>\n",
       "                        <th id=\"T_25be9adb_31d9_11eb_b1f0_a08869e6c543level0_row5\" class=\"row_heading level0 row5\" >Parch</th>\n",
       "                        <td id=\"T_25be9adb_31d9_11eb_b1f0_a08869e6c543row5_col0\" class=\"data row5 col0\" >-0.001652</td>\n",
       "                        <td id=\"T_25be9adb_31d9_11eb_b1f0_a08869e6c543row5_col1\" class=\"data row5 col1\" >0.081629</td>\n",
       "                        <td id=\"T_25be9adb_31d9_11eb_b1f0_a08869e6c543row5_col2\" class=\"data row5 col2\" >0.018443</td>\n",
       "                        <td id=\"T_25be9adb_31d9_11eb_b1f0_a08869e6c543row5_col3\" class=\"data row5 col3\" >-0.189119</td>\n",
       "                        <td id=\"T_25be9adb_31d9_11eb_b1f0_a08869e6c543row5_col4\" class=\"data row5 col4\" >0.414838</td>\n",
       "                        <td id=\"T_25be9adb_31d9_11eb_b1f0_a08869e6c543row5_col5\" class=\"data row5 col5\" >1.000000</td>\n",
       "                        <td id=\"T_25be9adb_31d9_11eb_b1f0_a08869e6c543row5_col6\" class=\"data row5 col6\" >0.216225</td>\n",
       "            </tr>\n",
       "            <tr>\n",
       "                        <th id=\"T_25be9adb_31d9_11eb_b1f0_a08869e6c543level0_row6\" class=\"row_heading level0 row6\" >Fare</th>\n",
       "                        <td id=\"T_25be9adb_31d9_11eb_b1f0_a08869e6c543row6_col0\" class=\"data row6 col0\" >0.012658</td>\n",
       "                        <td id=\"T_25be9adb_31d9_11eb_b1f0_a08869e6c543row6_col1\" class=\"data row6 col1\" >0.257307</td>\n",
       "                        <td id=\"T_25be9adb_31d9_11eb_b1f0_a08869e6c543row6_col2\" class=\"data row6 col2\" >-0.549500</td>\n",
       "                        <td id=\"T_25be9adb_31d9_11eb_b1f0_a08869e6c543row6_col3\" class=\"data row6 col3\" >0.096067</td>\n",
       "                        <td id=\"T_25be9adb_31d9_11eb_b1f0_a08869e6c543row6_col4\" class=\"data row6 col4\" >0.159651</td>\n",
       "                        <td id=\"T_25be9adb_31d9_11eb_b1f0_a08869e6c543row6_col5\" class=\"data row6 col5\" >0.216225</td>\n",
       "                        <td id=\"T_25be9adb_31d9_11eb_b1f0_a08869e6c543row6_col6\" class=\"data row6 col6\" >1.000000</td>\n",
       "            </tr>\n",
       "    </tbody></table>"
      ],
      "text/plain": [
       "<pandas.io.formats.style.Styler at 0x15dc42146d0>"
      ]
     },
     "execution_count": 27,
     "metadata": {},
     "output_type": "execute_result"
    }
   ],
   "source": [
    "# create correlation matrix \n",
    "corr = df_eda.corr()\n",
    "corr.style.background_gradient(cmap=cmap)"
   ]
  },
  {
   "cell_type": "code",
   "execution_count": 28,
   "metadata": {},
   "outputs": [
    {
     "data": {
      "image/png": "[encoded data removed]",
      "text/plain": [
       "<Figure size 432x432 with 1 Axes>"
      ]
     },
     "metadata": {},
     "output_type": "display_data"
    }
   ],
   "source": [
    "# create figure\n",
    "fig, ax = plt.subplots(nrows=1, ncols=1, figsize=(6, 6))\n",
    "\n",
    "# define mask to hide the upper triangle of the heatmap \n",
    "mask = np.zeros_like(corr, dtype=np.bool)\n",
    "mask[np.triu_indices_from(mask)] = True\n",
    "\n",
    "# # define cmap for color mapping\n",
    "# cmap = sns.diverging_palette(230, 20, as_cmap=True)\n",
    "\n",
    "# rotate x axis ticks to 90 deg and y axis to 0 degree, set font size to 11 px\n",
    "ax.set_xticklabels(ax.get_xticklabels(), rotation=90, fontsize=11)\n",
    "ax.set_yticklabels(ax.get_xticklabels(), rotation = 0, fontsize=11)\n",
    "\n",
    "# create heatmap plot\n",
    "g = sns.heatmap(corr, \n",
    "                mask=mask,\n",
    "                vmin=-1, vmax=1,\n",
    "                linewidth=2.5,\n",
    "                annot=True,\n",
    "                cmap=cmap,\n",
    "                cbar=False,\n",
    "                ax=ax)\n",
    "\n",
    "# add horizontal line\n",
    "line = lines.Line2D([0, 1], [1, 1], transform=fig.transFigure, zorder=1000, figure=fig)\n",
    "fig.lines.extend([line])\n",
    "\n",
    "# add figure text as title\n",
    "fig.text(0, 1.03, 'Correlation Heatmap', fontdict=fig_title_prop)\n",
    "\n",
    "plt.tight_layout()\n",
    "plt.show()"
   ]
  },
  {
   "cell_type": "markdown",
   "metadata": {},
   "source": [
    "From Correlation heatmap it is evident that: \n",
    "- `Fare` and `Survived` are positively correlated.\n",
    "- There is positive correlation between `Parch` and `SibSp`\n",
    "- There is negative correlation between `Fare` and `Pclass`, this again confirms that most of people had bought low fare tickets and thus more passengers had 3rd class tickets.\n",
    "- There is also negative correlation between `Pclass` and `Survive`, from this we can infer that lower that class (1 > 2 > 3) low were the chances of survival but we need to validate this."
   ]
  },
  {
   "cell_type": "markdown",
   "metadata": {},
   "source": [
    "What does positive and negative correlation means?\n",
    "- **Positive Correlation:** This occurs when the value of one variable increases then the value of the other variable(s) also increases.\n",
    "- **Negative Correlation:** This occurs when the value of one variable increases and the value of other variable(s) decreases."
   ]
  },
  {
   "cell_type": "markdown",
   "metadata": {},
   "source": [
    "Let's look deeper into survival rate and its relationship with other feature.\n",
    "1. Find survival rate based on `sex`\n",
    "2. Find survival rate based on `age band` for this we will have to populate our dataframe with age ranges (bin size = 10) based on the age of the passengers.\n",
    "3. Check survival rate based on `class`."
   ]
  },
  {
   "cell_type": "markdown",
   "metadata": {},
   "source": [
    "Survival rate based on Sex"
   ]
  },
  {
   "cell_type": "markdown",
   "metadata": {},
   "source": [
    "Groupby `Sex` feature and find percentage of `Survived`. Since Survived data is in 0 or 1 therefore aggregation as `mean()` is sufficient to find percentage."
   ]
  },
  {
   "cell_type": "code",
   "execution_count": 29,
   "metadata": {},
   "outputs": [],
   "source": [
    "survival_rate = pd.DataFrame(df_eda.groupby('Sex').mean()['Survived'])\n",
    "male_rate = survival_rate.loc['male']\n",
    "female_rate = survival_rate.loc['female']"
   ]
  },
  {
   "cell_type": "code",
   "execution_count": 30,
   "metadata": {},
   "outputs": [],
   "source": [
    "\"\"\"\n",
    "np.random.uniform() generates random samples from uniform distribution and returns the random samples as numpy array.\n",
    "\n",
    "Parameters for this method are low=0.0, high=1.0, size=None\n",
    "\"\"\"\n",
    "\n",
    "male_pos = np.random.uniform(0, male_rate, len(df_eda[(df_eda['Sex'] == 'male') & (df_eda['Survived'] == 1)]))\n",
    "male_neg = np.random.uniform(male_rate, 1, len(df_eda[(df_eda['Sex'] == 'male') & (df_eda['Survived'] == 0)]))\n",
    "female_pos = np.random.uniform(0, female_rate, len(df_eda[(df_eda['Sex'] == 'male') & (df_eda['Survived'] == 1)]))\n",
    "female_neg = np.random.uniform(female_rate, 1, len(df_eda[(df_eda['Sex'] == 'male') & (df_eda['Survived'] == 0)]))"
   ]
  },
  {
   "cell_type": "code",
   "execution_count": 31,
   "metadata": {},
   "outputs": [
    {
     "data": {
      "image/png": "[encoded data removed]",
      "text/plain": [
       "<Figure size 360x432 with 1 Axes>"
      ]
     },
     "metadata": {},
     "output_type": "display_data"
    }
   ],
   "source": [
    "fig, ax = plt.subplots(1, 1, figsize=(5, 6))\n",
    "\n",
    "np.random.seed(42)\n",
    "\n",
    "# Male Stripplot\n",
    "ax.scatter(np.random.uniform(-0.3, 0.3, len(male_pos)), male_pos, color=customPalette[0], edgecolor='#d4dddd', label='Male(Survived=1)')\n",
    "ax.scatter(np.random.uniform(-0.3, 0.3, len(male_neg)), male_neg, color=customPalette[0], edgecolor='#d4dddd', alpha=0.1, label='Male(Survived=0)')\n",
    "\n",
    "# Female Stripplot\n",
    "ax.scatter(1+np.random.uniform(-0.3, 0.3, len(female_pos)), female_pos, color=customPalette[1], edgecolor='#d4dddd', label='Male(Survived=1)')\n",
    "ax.scatter(1+np.random.uniform(-0.3, 0.3, len(female_neg)), female_neg, color=customPalette[1], edgecolor='#d4dddd', alpha=0.1, label='Male(Survived=0)')\n",
    "\n",
    "# Set Figure & Axes\n",
    "ax.set_xlim(-0.5, 1.5)\n",
    "ax.set_ylim(-0.03, 1.1)\n",
    "\n",
    "# Ticks\n",
    "ax.set_xticks([0, 1])\n",
    "ax.set_xticklabels(['Male', 'Female'], fontweight='bold', fontsize=12)\n",
    "ax.set_yticks([], minor=False)\n",
    "ax.set_ylabel('')\n",
    "\n",
    "# remove figure borders\n",
    "for s in [\"top\", \"right\",\"left\", 'bottom']:\n",
    "    ax.spines[s].set_visible(False)\n",
    "\n",
    "# add horizontal line\n",
    "line = lines.Line2D([0, 1], [1.02, 1.02], transform=fig.transFigure, zorder=1000, figure=fig)\n",
    "fig.lines.extend([line])\n",
    "\n",
    "# add figure text as title\n",
    "fig.text(0, 1.05, 'Distribution of survivors by gender', fontdict=fig_title_prop)\n",
    "fig.text(0, 0.94, \n",
    "         'Only {:.2f}% people survived out of which\\n{:.2f}% were Male and {:.2f}% were Female.'.format(\n",
    "             survive_per[1]*100, \n",
    "             male_rate[0]*100, \n",
    "             female_rate[0]*100),\n",
    "         ha='left'\n",
    "        )\n",
    "\n",
    "ax.legend(loc=(1, 0.4), edgecolor='None')\n",
    "plt.grid()\n",
    "plt.tight_layout()\n",
    "plt.show()"
   ]
  },
  {
   "cell_type": "markdown",
   "metadata": {},
   "source": [
    "Survival rate based on age of the passengers"
   ]
  },
  {
   "cell_type": "code",
   "execution_count": 32,
   "metadata": {},
   "outputs": [
    {
     "data": {
      "image/png": "[encoded data removed]",
      "text/plain": [
       "<Figure size 576x432 with 1 Axes>"
      ]
     },
     "metadata": {},
     "output_type": "display_data"
    }
   ],
   "source": [
    "fig, ax = plt.subplots(1, 1, figsize=(8, 6), sharey=True)\n",
    "\n",
    "sns.stripplot(x=\"Sex\", y=\"Age\", hue='Survived', data=df_eda, size=4, palette='YlOrBr', alpha=0.8)\n",
    "\n",
    "sns.violinplot(x='Sex', y='Age', data=df_eda, hue='Survived', split=True, palette=customPalette)\n",
    "\n",
    "\n",
    "# remove borders\n",
    "for s in ['top', 'right', 'left', 'bottom']:\n",
    "    ax.spines[s].set_visible(False)\n",
    "\n",
    "# add horizontal line\n",
    "line = lines.Line2D([0, 1], [1.02, 1.02], transform=fig.transFigure, zorder=1000, figure=fig)\n",
    "fig.lines.extend([line])\n",
    "\n",
    "# add figure text as title\n",
    "fig.text(0, 1.05, 'Age vs Sex Vs Survived', fontdict=fig_title_prop)  \n",
    "\n",
    "# add span\n",
    "ax.axhspan(xmin=0, xmax=1, \n",
    "           ymin=df_eda['Age'].mean() - 10, ymax=df_eda['Age'].mean() + 10 ,\n",
    "           facecolor=\"r\",\n",
    "           alpha=0.1, \n",
    "           zorder=1000)\n",
    "\n",
    "plt.legend(title='Survived', edgecolor='None', bbox_to_anchor=(1, 1))\n",
    "plt.tight_layout()\n",
    "plt.show()"
   ]
  },
  {
   "cell_type": "markdown",
   "metadata": {},
   "source": [
    "- For male between the age range of 20-30 years, chances of survial are low\n",
    "- For female data is faily distributed throughout the y axis"
   ]
  },
  {
   "cell_type": "markdown",
   "metadata": {},
   "source": [
    "First we will create a function to convert passenger age into a range."
   ]
  },
  {
   "cell_type": "code",
   "execution_count": 33,
   "metadata": {},
   "outputs": [],
   "source": [
    "# define funcction for converting age into age band\n",
    "def age_band(num):\n",
    "    for i in range(1, 100):\n",
    "        if num < 10*i :  return f'{(i-1) * 10} ~ {i*10}'"
   ]
  },
  {
   "cell_type": "markdown",
   "metadata": {},
   "source": [
    "Now we will populate out df_eda dataset with age ranges based on passenger age. "
   ]
  },
  {
   "cell_type": "code",
   "execution_count": 34,
   "metadata": {},
   "outputs": [],
   "source": [
    "# add column in df_eda dataframe for age_band\n",
    "df_eda['age_band'] = df_eda['Age'].apply(age_band)"
   ]
  },
  {
   "cell_type": "markdown",
   "metadata": {},
   "source": [
    "Calculate surviaval rate for each age groups. Since our `age_band` feature  and aggregated data has some NaN values, thus we will use fillna() and replace NaN with zeros."
   ]
  },
  {
   "cell_type": "code",
   "execution_count": 35,
   "metadata": {},
   "outputs": [],
   "source": [
    "titanic_age = df_eda[['age_band', 'Survived']].groupby('age_band')['Survived'].value_counts().sort_index().unstack()\n",
    "titanic_age.fillna(0, inplace=True)\n",
    "titanic_age['Survival rate'] = round(titanic_age[1] / (titanic_age[0] + titanic_age[1]) * 100, 2)"
   ]
  },
  {
   "cell_type": "code",
   "execution_count": 36,
   "metadata": {},
   "outputs": [
    {
     "data": {
      "image/png": "[encoded data removed]",
      "text/plain": [
       "<Figure size 576x360 with 1 Axes>"
      ]
     },
     "metadata": {},
     "output_type": "display_data"
    }
   ],
   "source": [
    "fig, ax = plt.subplots(1, 1, figsize=(8, 5))\n",
    "fig.subplots_adjust(top=0.8)\n",
    "\n",
    "color_map = ['#aed9e0' for _ in range(9)]\n",
    "color_map[0] = color_map[8] = '#ffa69e' # color highlight\n",
    "\n",
    "ax.bar(titanic_age['Survival rate'].index, titanic_age['Survival rate'], \n",
    "       color=color_map, width=0.55, \n",
    "#        edgecolor='black', \n",
    "       linewidth=0.7)\n",
    "ax.set_ylim(0, 110)\n",
    "\n",
    "for s in [\"top\", \"right\",\"left\"]:\n",
    "    ax.spines[s].set_visible(False)\n",
    "\n",
    "# Annotation Part\n",
    "for i in titanic_age['Survival rate'].index:\n",
    "    ax.annotate(f\"{titanic_age['Survival rate'][i]:.02f}%\", \n",
    "                   xy=(i, titanic_age['Survival rate'][i] + 2.3),\n",
    "                   va = 'center', ha='center',fontweight='light', \n",
    "                   color='#4a4a4a')\n",
    "\n",
    "# mean line + annotation\n",
    "mean = df_eda['Survived'].mean() *100\n",
    "ax.axhline(mean ,color='black', linewidth=0.4, linestyle='-')\n",
    "ax.annotate(f\"mean : {mean :.4}%\", \n",
    "            xy=('70 ~ 80', mean + 5),\n",
    "            va = 'center', ha='center',\n",
    "            color='#4a4a4a',\n",
    "            bbox=dict(boxstyle='round', pad=0.4, facecolor='#d4dddd', linewidth=0, alpha=0.4))\n",
    "\n",
    "# add horizontal line\n",
    "line = lines.Line2D([0, 1], [1, 1], transform=fig.transFigure, zorder=1000, figure=fig)\n",
    "fig.lines.extend([line])\n",
    "\n",
    "# add figure text as title\n",
    "fig.text(0, 1.03, 'Age Band & Survival Rate', fontdict=fig_title_prop)\n",
    "\n",
    "grid_y_ticks = np.arange(0, 101, 20)\n",
    "ax.set_yticks(grid_y_ticks)\n",
    "# ax.grid(axis='y', linestyle='--', alpha=0.4)\n",
    "\n",
    "plt.tight_layout()\n",
    "plt.show()"
   ]
  },
  {
   "cell_type": "markdown",
   "metadata": {},
   "source": [
    "From the analysis we can infer that:\n",
    "1. There is 100% survival rate for age band 80-90, but there was only 1 passenger in this range. We will try to eliminate this row as it can affect our model. Also does ticket class has any impact on his survival?\n",
    "2. There is no one in age range 70-80 who survived. Find out were they all in 3rd Class?\n",
    "3. Passengers with age range between 0-10 years has best survival rate, it also makes sense as protection of kids and women must have been priority.\n",
    "4. Old people had less chance of survival while for young passenger age range 20-30 is exception as their survival rate is lower than mean. Why?"
   ]
  },
  {
   "cell_type": "code",
   "execution_count": 37,
   "metadata": {},
   "outputs": [
    {
     "data": {
      "image/png": "[encoded data removed]",
      "text/plain": [
       "<Figure size 720x360 with 1 Axes>"
      ]
     },
     "metadata": {},
     "output_type": "display_data"
    }
   ],
   "source": [
    "# mean age for each class\n",
    "pclass_age_mean = df_eda[['Age', 'Pclass']].groupby('Pclass').mean()\n",
    "pclsas_survival_rate = df_eda[['Survived', 'Pclass']].groupby(['Pclass']).mean()\n",
    "\n",
    "# create figure\n",
    "fig, ax = plt.subplots(1, 1, figsize=(10, 5))\n",
    "\n",
    "sns.violinplot(x=\"Pclass\", y=\"Age\", hue=\"Survived\", split=True, data=df_eda)\n",
    "    \n",
    "for i in ['top', 'right', 'left', 'bottom']:\n",
    "    ax.spines[i].set_visible(False)\n",
    "\n",
    "# mean line + annotation\n",
    "for i in range(len(pclass_age_mean)):\n",
    "    ax.annotate(\"Age(Mean): ~{:.0f}\".format(pclass_age_mean['Age'].iloc[i]), \n",
    "            xy=(i, 90),\n",
    "            va = 'center', ha='center',\n",
    "            color='#4a4a4a',\n",
    "            bbox=dict(boxstyle='round', pad=0.4, facecolor='#f8edeb', linewidth=0, alpha=0.4))\n",
    "    ax.annotate(\"Survival(%): {:.2f}%\".format(pclsas_survival_rate['Survived'].iloc[i]*100), \n",
    "            xy=(i, 80),\n",
    "            va = 'center', ha='center',\n",
    "            color='#4a4a4a',\n",
    "            bbox=dict(boxstyle='round', pad=0.4, facecolor='#d4dddd', linewidth=0, alpha=0.4))\n",
    "\n",
    "line = lines.Line2D([0,1], [1,1], transform=fig.transFigure, zorder=1000, figure=fig)\n",
    "fig.lines.extend([line])\n",
    "\n",
    "fig.text(0, 1.03, 'Age vs Pclass vs Survived', fontdict=fig_title_prop)\n",
    "\n",
    "ax.legend(title='Survived', edgecolor='None', numpoints=1, markerscale=5, bbox_to_anchor=(1.25, 0.5)) \n",
    "ax.grid(axis='y', linestyle='--', alpha=0.4)\n",
    "\n",
    "plt.tight_layout()\n",
    "plt.show()"
   ]
  },
  {
   "cell_type": "markdown",
   "metadata": {},
   "source": [
    "From the above chart it is clear that:\n",
    "1. Class 3 has most of Class 3 has the lowest mean age (~ 25 years) and lowest survival rate (~ 24%) of all three class\n",
    "2. Class 1 has highest mean age (~ 38 years) and survival rate (~ 63%) of all three classes "
   ]
  },
  {
   "cell_type": "markdown",
   "metadata": {},
   "source": [
    "Survival rate vs Fare"
   ]
  },
  {
   "cell_type": "code",
   "execution_count": 38,
   "metadata": {},
   "outputs": [
    {
     "data": {
      "text/html": [
       "<style  type=\"text/css\" >\n",
       "    #T_27c1173b_31d9_11eb_b996_a08869e6c543row0_col0 {\n",
       "            background-color:  #fff7fb;\n",
       "            color:  #000000;\n",
       "        }    #T_27c1173b_31d9_11eb_b996_a08869e6c543row0_col2 {\n",
       "            background-color:  #e2dfee;\n",
       "            color:  #000000;\n",
       "        }    #T_27c1173b_31d9_11eb_b996_a08869e6c543row0_col3 {\n",
       "            background-color:  #e2dfee;\n",
       "            color:  #000000;\n",
       "        }    #T_27c1173b_31d9_11eb_b996_a08869e6c543row0_col4 {\n",
       "            background-color:  #4a98c5;\n",
       "            color:  #000000;\n",
       "        }    #T_27c1173b_31d9_11eb_b996_a08869e6c543row1_col0 {\n",
       "            background-color:  #fff7fb;\n",
       "            color:  #000000;\n",
       "        }    #T_27c1173b_31d9_11eb_b996_a08869e6c543row1_col2 {\n",
       "            background-color:  #f5eef6;\n",
       "            color:  #000000;\n",
       "        }    #T_27c1173b_31d9_11eb_b996_a08869e6c543row1_col3 {\n",
       "            background-color:  #f5eff6;\n",
       "            color:  #000000;\n",
       "        }    #T_27c1173b_31d9_11eb_b996_a08869e6c543row1_col4 {\n",
       "            background-color:  #023858;\n",
       "            color:  #f1f1f1;\n",
       "        }    #T_27c1173b_31d9_11eb_b996_a08869e6c543row2_col0 {\n",
       "            background-color:  #73a9cf;\n",
       "            color:  #000000;\n",
       "        }    #T_27c1173b_31d9_11eb_b996_a08869e6c543row2_col2 {\n",
       "            background-color:  #ede8f3;\n",
       "            color:  #000000;\n",
       "        }    #T_27c1173b_31d9_11eb_b996_a08869e6c543row2_col3 {\n",
       "            background-color:  #ede8f3;\n",
       "            color:  #000000;\n",
       "        }    #T_27c1173b_31d9_11eb_b996_a08869e6c543row2_col4 {\n",
       "            background-color:  #f4edf6;\n",
       "            color:  #000000;\n",
       "        }    #T_27c1173b_31d9_11eb_b996_a08869e6c543row3_col0 {\n",
       "            background-color:  #73a9cf;\n",
       "            color:  #000000;\n",
       "        }    #T_27c1173b_31d9_11eb_b996_a08869e6c543row3_col2 {\n",
       "            background-color:  #fff7fb;\n",
       "            color:  #000000;\n",
       "        }    #T_27c1173b_31d9_11eb_b996_a08869e6c543row3_col3 {\n",
       "            background-color:  #fff7fb;\n",
       "            color:  #000000;\n",
       "        }    #T_27c1173b_31d9_11eb_b996_a08869e6c543row3_col4 {\n",
       "            background-color:  #f0eaf4;\n",
       "            color:  #000000;\n",
       "        }    #T_27c1173b_31d9_11eb_b996_a08869e6c543row4_col0 {\n",
       "            background-color:  #023858;\n",
       "            color:  #f1f1f1;\n",
       "        }    #T_27c1173b_31d9_11eb_b996_a08869e6c543row4_col2 {\n",
       "            background-color:  #023858;\n",
       "            color:  #f1f1f1;\n",
       "        }    #T_27c1173b_31d9_11eb_b996_a08869e6c543row4_col3 {\n",
       "            background-color:  #023858;\n",
       "            color:  #f1f1f1;\n",
       "        }    #T_27c1173b_31d9_11eb_b996_a08869e6c543row4_col4 {\n",
       "            background-color:  #fff7fb;\n",
       "            color:  #000000;\n",
       "        }    #T_27c1173b_31d9_11eb_b996_a08869e6c543row5_col0 {\n",
       "            background-color:  #023858;\n",
       "            color:  #f1f1f1;\n",
       "        }    #T_27c1173b_31d9_11eb_b996_a08869e6c543row5_col2 {\n",
       "            background-color:  #d0d1e6;\n",
       "            color:  #000000;\n",
       "        }    #T_27c1173b_31d9_11eb_b996_a08869e6c543row5_col3 {\n",
       "            background-color:  #d0d1e6;\n",
       "            color:  #000000;\n",
       "        }    #T_27c1173b_31d9_11eb_b996_a08869e6c543row5_col4 {\n",
       "            background-color:  #faf2f8;\n",
       "            color:  #000000;\n",
       "        }</style><table id=\"T_27c1173b_31d9_11eb_b996_a08869e6c543\" ><thead>    <tr>        <th class=\"blank level0\" ></th>        <th class=\"col_heading level0 col0\" >Pclass</th>        <th class=\"col_heading level0 col1\" >Sex</th>        <th class=\"col_heading level0 col2\" >Count</th>        <th class=\"col_heading level0 col3\" >Count_per</th>        <th class=\"col_heading level0 col4\" >Mean_Fare</th>    </tr></thead><tbody>\n",
       "                <tr>\n",
       "                        <th id=\"T_27c1173b_31d9_11eb_b996_a08869e6c543level0_row0\" class=\"row_heading level0 row0\" >0</th>\n",
       "                        <td id=\"T_27c1173b_31d9_11eb_b996_a08869e6c543row0_col0\" class=\"data row0 col0\" >1</td>\n",
       "                        <td id=\"T_27c1173b_31d9_11eb_b996_a08869e6c543row0_col1\" class=\"data row0 col1\" >male</td>\n",
       "                        <td id=\"T_27c1173b_31d9_11eb_b996_a08869e6c543row0_col2\" class=\"data row0 col2\" >122</td>\n",
       "                        <td id=\"T_27c1173b_31d9_11eb_b996_a08869e6c543row0_col3\" class=\"data row0 col3\" >13.690000</td>\n",
       "                        <td id=\"T_27c1173b_31d9_11eb_b996_a08869e6c543row0_col4\" class=\"data row0 col4\" >67.230000</td>\n",
       "            </tr>\n",
       "            <tr>\n",
       "                        <th id=\"T_27c1173b_31d9_11eb_b996_a08869e6c543level0_row1\" class=\"row_heading level0 row1\" >1</th>\n",
       "                        <td id=\"T_27c1173b_31d9_11eb_b996_a08869e6c543row1_col0\" class=\"data row1 col0\" >1</td>\n",
       "                        <td id=\"T_27c1173b_31d9_11eb_b996_a08869e6c543row1_col1\" class=\"data row1 col1\" >female</td>\n",
       "                        <td id=\"T_27c1173b_31d9_11eb_b996_a08869e6c543row1_col2\" class=\"data row1 col2\" >94</td>\n",
       "                        <td id=\"T_27c1173b_31d9_11eb_b996_a08869e6c543row1_col3\" class=\"data row1 col3\" >10.550000</td>\n",
       "                        <td id=\"T_27c1173b_31d9_11eb_b996_a08869e6c543row1_col4\" class=\"data row1 col4\" >106.130000</td>\n",
       "            </tr>\n",
       "            <tr>\n",
       "                        <th id=\"T_27c1173b_31d9_11eb_b996_a08869e6c543level0_row2\" class=\"row_heading level0 row2\" >2</th>\n",
       "                        <td id=\"T_27c1173b_31d9_11eb_b996_a08869e6c543row2_col0\" class=\"data row2 col0\" >2</td>\n",
       "                        <td id=\"T_27c1173b_31d9_11eb_b996_a08869e6c543row2_col1\" class=\"data row2 col1\" >male</td>\n",
       "                        <td id=\"T_27c1173b_31d9_11eb_b996_a08869e6c543row2_col2\" class=\"data row2 col2\" >108</td>\n",
       "                        <td id=\"T_27c1173b_31d9_11eb_b996_a08869e6c543row2_col3\" class=\"data row2 col3\" >12.120000</td>\n",
       "                        <td id=\"T_27c1173b_31d9_11eb_b996_a08869e6c543row2_col4\" class=\"data row2 col4\" >19.740000</td>\n",
       "            </tr>\n",
       "            <tr>\n",
       "                        <th id=\"T_27c1173b_31d9_11eb_b996_a08869e6c543level0_row3\" class=\"row_heading level0 row3\" >3</th>\n",
       "                        <td id=\"T_27c1173b_31d9_11eb_b996_a08869e6c543row3_col0\" class=\"data row3 col0\" >2</td>\n",
       "                        <td id=\"T_27c1173b_31d9_11eb_b996_a08869e6c543row3_col1\" class=\"data row3 col1\" >female</td>\n",
       "                        <td id=\"T_27c1173b_31d9_11eb_b996_a08869e6c543row3_col2\" class=\"data row3 col2\" >76</td>\n",
       "                        <td id=\"T_27c1173b_31d9_11eb_b996_a08869e6c543row3_col3\" class=\"data row3 col3\" >8.530000</td>\n",
       "                        <td id=\"T_27c1173b_31d9_11eb_b996_a08869e6c543row3_col4\" class=\"data row3 col4\" >21.970000</td>\n",
       "            </tr>\n",
       "            <tr>\n",
       "                        <th id=\"T_27c1173b_31d9_11eb_b996_a08869e6c543level0_row4\" class=\"row_heading level0 row4\" >4</th>\n",
       "                        <td id=\"T_27c1173b_31d9_11eb_b996_a08869e6c543row4_col0\" class=\"data row4 col0\" >3</td>\n",
       "                        <td id=\"T_27c1173b_31d9_11eb_b996_a08869e6c543row4_col1\" class=\"data row4 col1\" >male</td>\n",
       "                        <td id=\"T_27c1173b_31d9_11eb_b996_a08869e6c543row4_col2\" class=\"data row4 col2\" >347</td>\n",
       "                        <td id=\"T_27c1173b_31d9_11eb_b996_a08869e6c543row4_col3\" class=\"data row4 col3\" >38.950000</td>\n",
       "                        <td id=\"T_27c1173b_31d9_11eb_b996_a08869e6c543row4_col4\" class=\"data row4 col4\" >12.660000</td>\n",
       "            </tr>\n",
       "            <tr>\n",
       "                        <th id=\"T_27c1173b_31d9_11eb_b996_a08869e6c543level0_row5\" class=\"row_heading level0 row5\" >5</th>\n",
       "                        <td id=\"T_27c1173b_31d9_11eb_b996_a08869e6c543row5_col0\" class=\"data row5 col0\" >3</td>\n",
       "                        <td id=\"T_27c1173b_31d9_11eb_b996_a08869e6c543row5_col1\" class=\"data row5 col1\" >female</td>\n",
       "                        <td id=\"T_27c1173b_31d9_11eb_b996_a08869e6c543row5_col2\" class=\"data row5 col2\" >144</td>\n",
       "                        <td id=\"T_27c1173b_31d9_11eb_b996_a08869e6c543row5_col3\" class=\"data row5 col3\" >16.160000</td>\n",
       "                        <td id=\"T_27c1173b_31d9_11eb_b996_a08869e6c543row5_col4\" class=\"data row5 col4\" >16.120000</td>\n",
       "            </tr>\n",
       "    </tbody></table>"
      ],
      "text/plain": [
       "<pandas.io.formats.style.Styler at 0x15dc66eaf10>"
      ]
     },
     "execution_count": 38,
     "metadata": {},
     "output_type": "execute_result"
    }
   ],
   "source": [
    "pclass_ulist = list(range(df_eda['Pclass'].nunique()))\n",
    "sex_ulist = list(df_eda['Sex'].unique())\n",
    "\n",
    "class_gen = {'Pclass':[], 'Sex':[], 'Count':[], 'Count_per': [], 'Mean_Fare':[]}\n",
    "\n",
    "for i in pclass_ulist:\n",
    "    for j in sex_ulist:\n",
    "        count = df_eda[(df_eda['Pclass'] == i+1) & (df_eda['Sex'] == j)]['Name'].count()\n",
    "        mean_fare = df_eda[(df_eda['Pclass'] == i+1) & (df_eda['Sex'] == j)]['Fare'].mean()\n",
    "        class_gen['Pclass'].append(i+1)\n",
    "        class_gen['Sex'].append(j)\n",
    "        class_gen['Count'].append(count)\n",
    "        class_gen['Count_per'].append(round(count / len(df_eda) * 100, 2))\n",
    "        class_gen['Mean_Fare'].append(round(mean_fare, 2))\n",
    "        \n",
    "pd.DataFrame.from_dict(class_gen).style.background_gradient(cmap='PuBu')"
   ]
  },
  {
   "cell_type": "code",
   "execution_count": 39,
   "metadata": {},
   "outputs": [
    {
     "data": {
      "image/png": "[encoded data removed]",
      "text/plain": [
       "<Figure size 576x360 with 1 Axes>"
      ]
     },
     "metadata": {},
     "output_type": "display_data"
    }
   ],
   "source": [
    "fig, ax = plt.subplots(1, 1, figsize=(8, 5))\n",
    "\n",
    "sns.violinplot(y='Fare', x='Pclass', hue='Sex', data=df_eda, split=True)\n",
    "\n",
    "for s in ['top', 'right', 'left', 'bottom']:\n",
    "    ax.spines[s].set_visible(False)\n",
    "\n",
    "line = lines.Line2D([0,1], [1,1], transform=fig.transFigure, zorder=1000, figure=fig)\n",
    "fig.lines.extend([line])\n",
    "\n",
    "fig.text(0, 1.03, 'Fare vs Pclass vs Sex', fontdict=fig_title_prop)\n",
    "\n",
    "ax.grid(axis='y', linestyle='--', alpha=0.4)\n",
    "plt.legend(edgecolor='None')\n",
    "plt.tight_layout()"
   ]
  },
  {
   "cell_type": "code",
   "execution_count": 40,
   "metadata": {},
   "outputs": [],
   "source": [
    "data = df_eda[['SibSp', 'Survived', 'Sex', 'PassengerId']].groupby(by=['Sex', 'Survived', 'SibSp']).count().reset_index()\n",
    "data.rename(columns={'PassengerId':'Count'}, inplace=True)\n",
    "male_sibsp = df_eda[df_eda['Sex']=='male'][['SibSp', 'Sex', 'Survived']]\n",
    "female_sibsp = df_eda[df_eda['Sex']=='female'][['SibSp', 'Sex', 'Survived']]"
   ]
  },
  {
   "cell_type": "code",
   "execution_count": 41,
   "metadata": {},
   "outputs": [],
   "source": [
    "sibsp_sex = [male_sibsp, female_sibsp]"
   ]
  },
  {
   "cell_type": "code",
   "execution_count": 42,
   "metadata": {},
   "outputs": [
    {
     "data": {
      "image/png": "[encoded data removed]",
      "text/plain": [
       "<Figure size 720x360 with 2 Axes>"
      ]
     },
     "metadata": {},
     "output_type": "display_data"
    }
   ],
   "source": [
    "fig, ax = plt.subplots(1, 2, figsize=(10, 5), sharex=False, sharey=False)\n",
    "fig.subplots_adjust(hspace=0.5, wspace=0.5)\n",
    "\n",
    "for ax, data in zip(ax, sibsp_sex):\n",
    "    sns.countplot(data=data, x='SibSp', hue='Survived', ax=ax)\n",
    "    ax.yaxis.label.set_visible(False)\n",
    "    ax.set(title='{}'.format(data['Sex'].value_counts().index[0]))\n",
    "    ax.get_legend().remove()\n",
    "    for s in ['top', 'right', 'left']:\n",
    "        ax.spines[s].set_visible(False)\n",
    "\n",
    "line = lines.Line2D([0,1], [1,1], transform=fig.transFigure, zorder=1000, figure=fig)\n",
    "fig.lines.extend([line])\n",
    "\n",
    "fig.text(0, 1.03, 'SibSp vs Sex vs Survived', fontdict=fig_title_prop)\n",
    "\n",
    "fig.legend(labels=['Not Survived', 'Survived'], edgecolor='None', bbox_to_anchor=(1.2, 0.5))\n",
    "plt.tight_layout()\n",
    "plt.show()"
   ]
  },
  {
   "cell_type": "markdown",
   "metadata": {},
   "source": [
    "Conclusions so far:\n",
    "- Only 38% passengers survived, Survival rate for female is way higher than male << Survival Rate {Male = 19%, Female = 72%} >>\n",
    "- Fare of 3rd Class was very cheap << Mean fares {1st Class = 13,  2nd Class = 20,  3rd Class = 84} >>\n",
    "- Majority of passengers were travelling through 3rd Class << Population Percentage {1st Class = 24%, 2nd Class = 20%, 3rd Class = 55%} >>\n",
    "- Majority of passengers travelling thorugh 3rd class were male (~38%)\n",
    "- Majority of passengers travelling were young (between 20 to 40 years = ~33%), 14% were travelling through 3rd Class"
   ]
  },
  {
   "cell_type": "markdown",
   "metadata": {},
   "source": [
    "<div class=\"alert alert-warning\">  \n",
    "<h3><strong>Feature Engineering</strong></h3>\n",
    "</div>"
   ]
  },
  {
   "cell_type": "code",
   "execution_count": 43,
   "metadata": {},
   "outputs": [],
   "source": [
    "#  Model Algorithms\n",
    "from sklearn import svm, tree, linear_model, neighbors, naive_bayes, ensemble, discriminant_analysis, gaussian_process\n",
    "from xgboost import XGBClassifier\n",
    "\n",
    "# Model Helpers\n",
    "from sklearn.preprocessing import OneHotEncoder, LabelEncoder\n",
    "from sklearn import feature_selection\n",
    "from sklearn import model_selection\n",
    "from sklearn import metrics\n",
    "\n",
    "# Model selector\n",
    "from sklearn.model_selection import StratifiedKFold, GridSearchCV, RandomizedSearchCV\n",
    "\n",
    "# Model evaluation\n",
    "from sklearn.metrics import classification_report, confusion_matrix, plot_confusion_matrix"
   ]
  },
  {
   "cell_type": "markdown",
   "metadata": {},
   "source": [
    ">The features you use influence more than everything else the result. No algorithm alone, to my knowledge, can supplement the information gain given by correct feature engineering.\n",
    "— Luca Massaron"
   ]
  },
  {
   "cell_type": "markdown",
   "metadata": {},
   "source": [
    "Feature engineering efforts mainly have two goals:\n",
    "1. Preparing the proper input dataset, compatible with the machine learning algorithm requirements.\n",
    "2. Improving the performance of machine learning models."
   ]
  },
  {
   "cell_type": "code",
   "execution_count": 44,
   "metadata": {},
   "outputs": [],
   "source": [
    "train_copy = copy.deepcopy(df_train)\n",
    "predict_copy = copy.deepcopy(df_predict)"
   ]
  },
  {
   "cell_type": "markdown",
   "metadata": {},
   "source": [
    "#### Cleaning The Data"
   ]
  },
  {
   "cell_type": "markdown",
   "metadata": {},
   "source": [
    "We will create a list and pass both train and predict datasets, so that we can use for loop to apply feature engineering operations on both datasets at once."
   ]
  },
  {
   "cell_type": "code",
   "execution_count": 45,
   "metadata": {},
   "outputs": [],
   "source": [
    "df_list = [train_copy, predict_copy]"
   ]
  },
  {
   "cell_type": "markdown",
   "metadata": {},
   "source": [
    "Let's graphically visualize the missing values in the train dataset"
   ]
  },
  {
   "cell_type": "code",
   "execution_count": 46,
   "metadata": {},
   "outputs": [
    {
     "data": {
      "image/png": "[encoded data removed]",
      "text/plain": [
       "<Figure size 720x360 with 2 Axes>"
      ]
     },
     "metadata": {},
     "output_type": "display_data"
    }
   ],
   "source": [
    "msno.matrix(train_copy, color=(0.94, 0.54, 0.36), figsize=(10,5))\n",
    "plt.show()"
   ]
  },
  {
   "cell_type": "markdown",
   "metadata": {},
   "source": [
    "#### COMPLETING : Complete missing values in train and predict dataset"
   ]
  },
  {
   "cell_type": "markdown",
   "metadata": {},
   "source": [
    "Replace missing values in:\n",
    "- In `Age` and `Fare` column with median as data present is numerical and positively skewed\n",
    "- In `Embarked` column with mode as data present is categorical"
   ]
  },
  {
   "cell_type": "code",
   "execution_count": 47,
   "metadata": {},
   "outputs": [],
   "source": [
    "for dataset in df_list:    \n",
    "    #complete missing age with median\n",
    "    dataset['Age'].fillna(dataset['Age'].median(), inplace = True)\n",
    "\n",
    "    #complete embarked with mode\n",
    "    dataset['Embarked'].fillna(dataset['Embarked'].mode()[0], inplace = True)\n",
    "\n",
    "    #complete missing fare with median\n",
    "    dataset['Fare'].fillna(dataset['Fare'].median(), inplace = True)"
   ]
  },
  {
   "cell_type": "markdown",
   "metadata": {},
   "source": [
    "Drop unhelpful columns from `predict` dataset: \n",
    "- Drop `Cabin` column as most of data in this column is missing\n",
    "- Drop `PassengerId` and `Ticket` columns as they does not contribute in analysis\n",
    "\n",
    "But before dropping `PassengerId` from `test` column, we will save it as a list because we will need it to for submission."
   ]
  },
  {
   "cell_type": "code",
   "execution_count": 48,
   "metadata": {},
   "outputs": [],
   "source": [
    "passengerid = predict_copy['PassengerId']"
   ]
  },
  {
   "cell_type": "code",
   "execution_count": 49,
   "metadata": {},
   "outputs": [],
   "source": [
    "drop_column = ['PassengerId','Cabin', 'Ticket']\n",
    "predict_copy.drop(drop_column, axis=1, inplace = True)"
   ]
  },
  {
   "cell_type": "code",
   "execution_count": 50,
   "metadata": {},
   "outputs": [
    {
     "name": "stdout",
     "output_type": "stream",
     "text": [
      "Train Dataset has 12 columns:  ['PassengerId', 'Survived', 'Pclass', 'Name', 'Sex', 'Age', 'SibSp', 'Parch', 'Ticket', 'Fare', 'Cabin', 'Embarked']\n",
      "--------------------------------------------------------------------------------------------------------------------------------------------\n",
      "predict Dataset has 8 columns:  ['PassengerId', 'Pclass', 'Name', 'Sex', 'Age', 'SibSp', 'Parch', 'Ticket', 'Fare', 'Cabin', 'Embarked']\n"
     ]
    }
   ],
   "source": [
    "print(f'Train Dataset has %.f columns: ' % len(train_copy.columns), list(df_train.columns))\n",
    "print('-------'*20)\n",
    "print(f'predict Dataset has %.f columns: ' % len(predict_copy.columns), list(df_predict.columns))"
   ]
  },
  {
   "cell_type": "code",
   "execution_count": 51,
   "metadata": {},
   "outputs": [
    {
     "name": "stdout",
     "output_type": "stream",
     "text": [
      "Train dataset has 687 missing values\n",
      "predict dataset has 0 missing values\n"
     ]
    }
   ],
   "source": [
    "print(\n",
    "    'Train dataset has {} missing values\\npredict dataset has {} missing values'.format(\n",
    "        np.sum(train_copy.isnull().sum()), \n",
    "        np.sum(predict_copy.isnull().sum())) \n",
    ")"
   ]
  },
  {
   "cell_type": "markdown",
   "metadata": {},
   "source": [
    "#### CREATE: Feature Engineering for train and predict dataset"
   ]
  },
  {
   "cell_type": "markdown",
   "metadata": {},
   "source": [
    "Create/add new columns for `familySize`, `isAlone`, `nameTitle`, `fareBin`, `ageBin`"
   ]
  },
  {
   "cell_type": "code",
   "execution_count": 52,
   "metadata": {},
   "outputs": [],
   "source": [
    "for dataset in df_list:\n",
    "    #Discrete variables\n",
    "    dataset['familySize'] = dataset ['SibSp'] + dataset['Parch'] + 1\n",
    "    \n",
    "    # retrun 1/yes if familySize < 1 and 0/no if familySize > 1\n",
    "    dataset['isAlone'] = dataset.apply(lambda x: 0 if (x['familySize'] > 1) else 1, axis=1)\n",
    "\n",
    "    # we will use regex to extract title from `Name` column\n",
    "    dataset['nameTitle'] = dataset['Name'].str.extract('([a-zA-Z]+\\.)', expand=True)[0].str.replace('.', '')\n",
    "    \n",
    "    # create fare and bin using qcut\n",
    "    dataset['fareBin'] = pd.qcut(dataset['Fare'], 4)\n",
    "    dataset['ageBin'] = pd.cut(dataset['Age'].astype(int), 5)"
   ]
  },
  {
   "cell_type": "markdown",
   "metadata": {},
   "source": [
    "Convert title values in `nameTitle` column to `Others` if any title has less than 10 instances."
   ]
  },
  {
   "cell_type": "code",
   "execution_count": 53,
   "metadata": {},
   "outputs": [
    {
     "name": "stdout",
     "output_type": "stream",
     "text": [
      "Mr        517\n",
      "Miss      182\n",
      "Mrs       125\n",
      "Master     40\n",
      "Others     27\n",
      "Name: nameTitle, dtype: int64\n",
      "Mr        240\n",
      "Miss       78\n",
      "Mrs        72\n",
      "Master     21\n",
      "Others      7\n",
      "Name: nameTitle, dtype: int64\n"
     ]
    }
   ],
   "source": [
    "stat_min = 10\n",
    "\n",
    "for dataset in df_list:\n",
    "    title_names = (dataset['nameTitle'].value_counts() < stat_min) #this will create a true false series with title name as index\n",
    "    dataset['nameTitle'] = dataset['nameTitle'].apply(lambda x: 'Others' if title_names.loc[x] == True else x)\n",
    "    print(dataset['nameTitle'].value_counts())"
   ]
  },
  {
   "cell_type": "code",
   "execution_count": 54,
   "metadata": {},
   "outputs": [
    {
     "name": "stdout",
     "output_type": "stream",
     "text": [
      "Train Dataset has 17 columns:  ['PassengerId', 'Survived', 'Pclass', 'Name', 'Sex', 'Age', 'SibSp', 'Parch', 'Ticket', 'Fare', 'Cabin', 'Embarked', 'familySize', 'isAlone', 'nameTitle', 'fareBin', 'ageBin']\n",
      "--------------------------------------------------------------------------------------------------------------------------------------------\n",
      "Prediction Dataset has 13 columns:  ['Pclass', 'Name', 'Sex', 'Age', 'SibSp', 'Parch', 'Fare', 'Embarked', 'familySize', 'isAlone', 'nameTitle', 'fareBin', 'ageBin']\n"
     ]
    }
   ],
   "source": [
    "print(f'Train Dataset has %.f columns: ' % len(train_copy.columns), list(train_copy.columns))\n",
    "print('-------'*20)\n",
    "print(f'Prediction Dataset has %.f columns: ' % len(predict_copy.columns), list(predict_copy.columns))"
   ]
  },
  {
   "cell_type": "markdown",
   "metadata": {},
   "source": [
    "#### CONVERT: Convert categorical values into numerical using Label Encoder for train and predict dataset"
   ]
  },
  {
   "cell_type": "markdown",
   "metadata": {},
   "source": [
    "There are various methods for converting categorical values in a column to numerical, some of important ones are mentioned below:\n",
    "\n",
    "- **Label Encoding:** It is simply converting each value in a column to a number. Label encoding has the advantage that it is straightforward but it has the disadvantage that the numeric values can be “misinterpreted” by the algorithms.\n",
    "\n",
    "- **One-Hot Encoding:** In this strategy is to convert each category value into a new column and assigns a 1 or 0 (True/False) value to the column. This has the benefit of not weighting a value improperly but does have the downside of adding more columns to the data set.\n",
    "\n",
    "- **Custom Binary Encoding:** Depending on the data set, you may be able to use some combination of label encoding and one hot encoding to create a binary column that meets your needs for further analysis."
   ]
  },
  {
   "cell_type": "markdown",
   "metadata": {},
   "source": [
    "##### Label Encoding"
   ]
  },
  {
   "cell_type": "code",
   "execution_count": 55,
   "metadata": {},
   "outputs": [],
   "source": [
    "# initialize LabelEncoder from Preprocessing module of Scikit-Learn\n",
    "label = LabelEncoder()\n",
    "\n",
    "# apply label encoding to `Sex`, `Embarked`, `nameTitle`, `ageBin`, `fareBin`\n",
    "for dataset in df_list:    \n",
    "    dataset['sexCode'] = label.fit_transform(dataset['Sex'])\n",
    "    dataset['embarkedCode'] = label.fit_transform(dataset['Embarked'])\n",
    "    dataset['nameTitleCode'] = label.fit_transform(dataset['nameTitle'])\n",
    "    dataset['ageBinCode'] = label.fit_transform(dataset['ageBin'])\n",
    "    dataset['fareBinCode'] = label.fit_transform(dataset['fareBin'])"
   ]
  },
  {
   "cell_type": "code",
   "execution_count": 56,
   "metadata": {},
   "outputs": [
    {
     "name": "stdout",
     "output_type": "stream",
     "text": [
      "Train Dataset has 22 columns:  ['PassengerId', 'Survived', 'Pclass', 'Name', 'Sex', 'Age', 'SibSp', 'Parch', 'Ticket', 'Fare', 'Cabin', 'Embarked', 'familySize', 'isAlone', 'nameTitle', 'fareBin', 'ageBin', 'sexCode', 'embarkedCode', 'nameTitleCode', 'ageBinCode', 'fareBinCode']\n",
      "--------------------------------------------------------------------------------------------------------------------------------------------\n",
      "Prediction Dataset has 18 columns:  ['Pclass', 'Name', 'Sex', 'Age', 'SibSp', 'Parch', 'Fare', 'Embarked', 'familySize', 'isAlone', 'nameTitle', 'fareBin', 'ageBin', 'sexCode', 'embarkedCode', 'nameTitleCode', 'ageBinCode', 'fareBinCode']\n"
     ]
    }
   ],
   "source": [
    "print(f'Train Dataset has %.f columns: ' % len(train_copy.columns), list(train_copy.columns))\n",
    "print('-------'*20)\n",
    "print(f'Prediction Dataset has %.f columns: ' % len(predict_copy.columns), list(predict_copy.columns))"
   ]
  },
  {
   "cell_type": "markdown",
   "metadata": {},
   "source": [
    "#### SELECTION: Select `Features` and `Target` variables for train and predict dataset"
   ]
  },
  {
   "cell_type": "code",
   "execution_count": 57,
   "metadata": {},
   "outputs": [],
   "source": [
    "# define y variable aka target\n",
    "Target = ['Survived']"
   ]
  },
  {
   "cell_type": "markdown",
   "metadata": {},
   "source": [
    "##### One-Hot Encoding"
   ]
  },
  {
   "cell_type": "markdown",
   "metadata": {},
   "source": [
    "Using `get_dummy` method from Pandas to create one-hot encoding for categorical features 'Sex', 'nameTitle', 'Embarked'"
   ]
  },
  {
   "cell_type": "code",
   "execution_count": 58,
   "metadata": {},
   "outputs": [],
   "source": [
    "dummy_cols = ['Sex', 'nameTitle', 'Embarked']\n",
    "train_dummy = pd.get_dummies(train_copy[dummy_cols])\n",
    "train_dummy_cols = train_dummy.columns.to_list()"
   ]
  },
  {
   "cell_type": "code",
   "execution_count": 59,
   "metadata": {
    "_kg_hide-input": true,
    "_uuid": "d788baa4b88106afe5b30c769a6c85a1d67a5d6c"
   },
   "outputs": [],
   "source": [
    "predict_dummy = pd.get_dummies(predict_copy[dummy_cols])\n",
    "predict_dummy_cols = train_dummy.columns.to_list()"
   ]
  },
  {
   "cell_type": "markdown",
   "metadata": {},
   "source": [
    "Concatenate dummy data with train data (this will be unified source of processed data from which data can be extracted basis requirement)"
   ]
  },
  {
   "cell_type": "code",
   "execution_count": 60,
   "metadata": {},
   "outputs": [],
   "source": [
    "train_copy = pd.concat([train_copy, train_dummy], axis=1)"
   ]
  },
  {
   "cell_type": "code",
   "execution_count": 61,
   "metadata": {},
   "outputs": [],
   "source": [
    "predict_copy = pd.concat([predict_copy, predict_dummy], axis=1)"
   ]
  },
  {
   "cell_type": "markdown",
   "metadata": {},
   "source": [
    "Prepare different versions of dataframe to test model - \n",
    "1. With label encoding data\n",
    "2. With one-hot encoding data"
   ]
  },
  {
   "cell_type": "code",
   "execution_count": 62,
   "metadata": {},
   "outputs": [],
   "source": [
    "# Target \n",
    "y = train_copy[Target]"
   ]
  },
  {
   "cell_type": "code",
   "execution_count": 63,
   "metadata": {},
   "outputs": [],
   "source": [
    "## Original selected feature + Label encoding features\n",
    "# column for label encoding data\n",
    "train1_cols = ['Pclass', 'SibSp', 'Parch', 'sexCode', 'embarkedCode', 'nameTitleCode', 'ageBinCode', 'fareBinCode']\n",
    "# dataframe for label encoding data\n",
    "X1 = train_copy[train1_cols]\n",
    "\n",
    "# columns for one-hot encoding data\n",
    "train2_cols = ['Pclass', 'SibSp', 'Parch', 'ageBinCode', 'fareBinCode'] + train_dummy_cols\n",
    "# dataframe for one-hot encoding data\n",
    "X2 = train_copy[train2_cols]"
   ]
  },
  {
   "cell_type": "code",
   "execution_count": 64,
   "metadata": {},
   "outputs": [],
   "source": [
    "predict_label = predict_copy[train1_cols]"
   ]
  },
  {
   "cell_type": "code",
   "execution_count": 65,
   "metadata": {},
   "outputs": [],
   "source": [
    "predict_1hot = predict_copy[train2_cols]"
   ]
  },
  {
   "cell_type": "markdown",
   "metadata": {},
   "source": [
    "#### SPLIT : Split the `train` dataset"
   ]
  },
  {
   "cell_type": "markdown",
   "metadata": {},
   "source": [
    "We will use `df_predict` dataset for submission so we cannot show it to the model therefore we will split our `train` dataset into 80/20 ratio of `train` and `test` respectively."
   ]
  },
  {
   "cell_type": "code",
   "execution_count": 66,
   "metadata": {},
   "outputs": [],
   "source": [
    "# random_state -> seed or control random number generator\n",
    "X1_train, X1_test, y1_train, y1_test = model_selection.train_test_split(X1, y, test_size=0.2, random_state=42)\n",
    "X2_train, X2_test, y2_train, y2_test = model_selection.train_test_split(X2, y, test_size=0.2, random_state=42)"
   ]
  },
  {
   "cell_type": "code",
   "execution_count": 67,
   "metadata": {},
   "outputs": [
    {
     "name": "stdout",
     "output_type": "stream",
     "text": [
      "Train Dataset has 712 examples, 79.91% of original.\n",
      "Test Datasets has 179 examples, 20.09% of original.\n"
     ]
    }
   ],
   "source": [
    "print('Train Dataset has {:.0f} examples, {:.2f}% of original.'.format(len(X1_train), round(len(X1_train) / len(X1) *100, 2)))\n",
    "print('Test Datasets has {:.0f} examples, {:.2f}% of original.'.format(len(X1_test), round(len(X1_test) / len(X1) *100, 2)))"
   ]
  },
  {
   "cell_type": "markdown",
   "metadata": {},
   "source": [
    "<div class=\"alert alert-warning\">  \n",
    "<h3><strong>Model Selection</strong></h3>\n",
    "</div>"
   ]
  },
  {
   "cell_type": "markdown",
   "metadata": {},
   "source": [
    "We will test different models and check for their accurary with both of our datasets."
   ]
  },
  {
   "cell_type": "markdown",
   "metadata": {},
   "source": [
    "Machine Learning Algorithm (MLA) Selection and Initialization"
   ]
  },
  {
   "cell_type": "code",
   "execution_count": 68,
   "metadata": {},
   "outputs": [],
   "source": [
    "MLA = [\n",
    "    #Ensemble Methods\n",
    "    ensemble.RandomForestClassifier(),\n",
    "\n",
    "    #Gaussian Processes\n",
    "    gaussian_process.GaussianProcessClassifier(),\n",
    "    \n",
    "    #GLM\n",
    "    linear_model.LogisticRegressionCV(),\n",
    "    \n",
    "    #Navies Bayes\n",
    "    naive_bayes.GaussianNB(),\n",
    "    \n",
    "    #Nearest Neighbor\n",
    "    neighbors.KNeighborsClassifier(),\n",
    "    \n",
    "    #SVM\n",
    "    svm.SVC(probability=True),\n",
    "    \n",
    "    #Trees    \n",
    "    tree.DecisionTreeClassifier(),\n",
    "    \n",
    "    #Discriminant Analysis\n",
    "    discriminant_analysis.LinearDiscriminantAnalysis(),\n",
    "    \n",
    "    #XGBoost\n",
    "    XGBClassifier()    \n",
    "    ]"
   ]
  },
  {
   "cell_type": "markdown",
   "metadata": {},
   "source": [
    "We will create a table and populate it with the accuracy data of algorithms so that we can compare thier porformance. We will create separate tables for label encoding and one-hot encoding. "
   ]
  },
  {
   "cell_type": "code",
   "execution_count": 69,
   "metadata": {},
   "outputs": [],
   "source": [
    "#create table to compare MLA metrics for label encoding data\n",
    "MLA_cols_label = ['MLA Name', 'MLA Parameters','MLA Train Accuracy Mean', 'MLA Test Accuracy Mean', 'MLA Test Accuracy 3*STD' ,'MLA Time']\n",
    "MLA_compare_label = pd.DataFrame(columns = MLA_cols_label)"
   ]
  },
  {
   "cell_type": "code",
   "execution_count": 70,
   "metadata": {},
   "outputs": [],
   "source": [
    "#create table to compare MLA metrics for one-hot encoding data\n",
    "MLA_cols_1hot = ['MLA Name', 'MLA Parameters','MLA Train Accuracy Mean', 'MLA Test Accuracy Mean', 'MLA Test Accuracy 3*STD' ,'MLA Time']\n",
    "MLA_compare_1hot = pd.DataFrame(columns = MLA_cols_1hot)"
   ]
  },
  {
   "cell_type": "markdown",
   "metadata": {},
   "source": [
    "Now let's loop through our selected algorithms and record their accuracy in respective tables. We will use `Stratified K Fold` method for cross validation.\n",
    "\n",
    "- [What is Cross Validation?](https://en.wikipedia.org/wiki/Cross-validation_(statistics))\n",
    "- [Different types of Cross Validations](https://www.analyticsvidhya.com/blog/2018/05/improve-model-performance-cross-validation-in-python-r/)"
   ]
  },
  {
   "cell_type": "markdown",
   "metadata": {},
   "source": [
    "##### Model comparison for Label encoding data"
   ]
  },
  {
   "cell_type": "code",
   "execution_count": 71,
   "metadata": {},
   "outputs": [],
   "source": [
    "# index through MLA and save performance to table\n",
    "row_index = 0\n",
    "\n",
    "for alg in MLA:\n",
    "    # stratified K Fold Split\n",
    "    skf = StratifiedKFold(n_splits = 10, random_state=10)\n",
    "        \n",
    "    # cross validation\n",
    "    cv_results = model_selection.cross_validate(alg, X1_train, y1_train, return_train_score=True, cv=skf)\n",
    "    \n",
    "    #set name and parameters\n",
    "    MLA_name = alg.__class__.__name__\n",
    "    MLA_compare_label.loc[row_index, 'MLA Name'] = MLA_name\n",
    "    MLA_compare_label.loc[row_index, 'MLA Parameters'] = str(alg.get_params())\n",
    "    MLA_compare_label.loc[row_index, 'MLA Time'] = cv_results['fit_time'].mean()\n",
    "    MLA_compare_label.loc[row_index, 'MLA Train Accuracy Mean'] = cv_results['train_score'].mean()\n",
    "    MLA_compare_label.loc[row_index, 'MLA Test Accuracy Mean'] = cv_results['test_score'].mean()  \n",
    "    MLA_compare_label.loc[row_index, 'MLA Test Accuracy 3*STD'] = cv_results['test_score'].std()*3\n",
    "    \n",
    "    row_index+=1"
   ]
  },
  {
   "cell_type": "code",
   "execution_count": 72,
   "metadata": {},
   "outputs": [
    {
     "data": {
      "text/html": [
       "<div>\n",
       "<style scoped>\n",
       "    .dataframe tbody tr th:only-of-type {\n",
       "        vertical-align: middle;\n",
       "    }\n",
       "\n",
       "    .dataframe tbody tr th {\n",
       "        vertical-align: top;\n",
       "    }\n",
       "\n",
       "    .dataframe thead th {\n",
       "        text-align: right;\n",
       "    }\n",
       "</style>\n",
       "<table border=\"1\" class=\"dataframe\">\n",
       "  <thead>\n",
       "    <tr style=\"text-align: right;\">\n",
       "      <th></th>\n",
       "      <th>MLA Name</th>\n",
       "      <th>MLA Parameters</th>\n",
       "      <th>MLA Train Accuracy Mean</th>\n",
       "      <th>MLA Test Accuracy Mean</th>\n",
       "      <th>MLA Test Accuracy 3*STD</th>\n",
       "      <th>MLA Time</th>\n",
       "    </tr>\n",
       "  </thead>\n",
       "  <tbody>\n",
       "    <tr>\n",
       "      <th>5</th>\n",
       "      <td>SVC</td>\n",
       "      <td>{'C': 1.0, 'break_ties': False, 'cache_size': ...</td>\n",
       "      <td>0.838483</td>\n",
       "      <td>0.835642</td>\n",
       "      <td>0.219584</td>\n",
       "      <td>0.0587366</td>\n",
       "    </tr>\n",
       "    <tr>\n",
       "      <th>1</th>\n",
       "      <td>GaussianProcessClassifier</td>\n",
       "      <td>{'copy_X_train': True, 'kernel': None, 'max_it...</td>\n",
       "      <td>0.868134</td>\n",
       "      <td>0.816041</td>\n",
       "      <td>0.166998</td>\n",
       "      <td>0.328421</td>\n",
       "    </tr>\n",
       "    <tr>\n",
       "      <th>0</th>\n",
       "      <td>RandomForestClassifier</td>\n",
       "      <td>{'bootstrap': True, 'ccp_alpha': 0.0, 'class_w...</td>\n",
       "      <td>0.892947</td>\n",
       "      <td>0.809057</td>\n",
       "      <td>0.134167</td>\n",
       "      <td>0.189996</td>\n",
       "    </tr>\n",
       "    <tr>\n",
       "      <th>4</th>\n",
       "      <td>KNeighborsClassifier</td>\n",
       "      <td>{'algorithm': 'auto', 'leaf_size': 30, 'metric...</td>\n",
       "      <td>0.856584</td>\n",
       "      <td>0.80759</td>\n",
       "      <td>0.133569</td>\n",
       "      <td>0.00488524</td>\n",
       "    </tr>\n",
       "    <tr>\n",
       "      <th>8</th>\n",
       "      <td>XGBClassifier</td>\n",
       "      <td>{'objective': 'binary:logistic', 'base_score':...</td>\n",
       "      <td>0.889514</td>\n",
       "      <td>0.806201</td>\n",
       "      <td>0.134268</td>\n",
       "      <td>0.0858694</td>\n",
       "    </tr>\n",
       "    <tr>\n",
       "      <th>6</th>\n",
       "      <td>DecisionTreeClassifier</td>\n",
       "      <td>{'ccp_alpha': 0.0, 'class_weight': None, 'crit...</td>\n",
       "      <td>0.892947</td>\n",
       "      <td>0.796381</td>\n",
       "      <td>0.141217</td>\n",
       "      <td>0.00568438</td>\n",
       "    </tr>\n",
       "    <tr>\n",
       "      <th>2</th>\n",
       "      <td>LogisticRegressionCV</td>\n",
       "      <td>{'Cs': 10, 'class_weight': None, 'cv': None, '...</td>\n",
       "      <td>0.794787</td>\n",
       "      <td>0.78928</td>\n",
       "      <td>0.245636</td>\n",
       "      <td>0.218016</td>\n",
       "    </tr>\n",
       "    <tr>\n",
       "      <th>7</th>\n",
       "      <td>LinearDiscriminantAnalysis</td>\n",
       "      <td>{'n_components': None, 'priors': None, 'shrink...</td>\n",
       "      <td>0.788858</td>\n",
       "      <td>0.785133</td>\n",
       "      <td>0.249081</td>\n",
       "      <td>0.00747969</td>\n",
       "    </tr>\n",
       "    <tr>\n",
       "      <th>3</th>\n",
       "      <td>GaussianNB</td>\n",
       "      <td>{'priors': None, 'var_smoothing': 1e-09}</td>\n",
       "      <td>0.792759</td>\n",
       "      <td>0.778091</td>\n",
       "      <td>0.209998</td>\n",
       "      <td>0.00478659</td>\n",
       "    </tr>\n",
       "  </tbody>\n",
       "</table>\n",
       "</div>"
      ],
      "text/plain": [
       "                     MLA Name  \\\n",
       "5                         SVC   \n",
       "1   GaussianProcessClassifier   \n",
       "0      RandomForestClassifier   \n",
       "4        KNeighborsClassifier   \n",
       "8               XGBClassifier   \n",
       "6      DecisionTreeClassifier   \n",
       "2        LogisticRegressionCV   \n",
       "7  LinearDiscriminantAnalysis   \n",
       "3                  GaussianNB   \n",
       "\n",
       "                                      MLA Parameters MLA Train Accuracy Mean  \\\n",
       "5  {'C': 1.0, 'break_ties': False, 'cache_size': ...                0.838483   \n",
       "1  {'copy_X_train': True, 'kernel': None, 'max_it...                0.868134   \n",
       "0  {'bootstrap': True, 'ccp_alpha': 0.0, 'class_w...                0.892947   \n",
       "4  {'algorithm': 'auto', 'leaf_size': 30, 'metric...                0.856584   \n",
       "8  {'objective': 'binary:logistic', 'base_score':...                0.889514   \n",
       "6  {'ccp_alpha': 0.0, 'class_weight': None, 'crit...                0.892947   \n",
       "2  {'Cs': 10, 'class_weight': None, 'cv': None, '...                0.794787   \n",
       "7  {'n_components': None, 'priors': None, 'shrink...                0.788858   \n",
       "3           {'priors': None, 'var_smoothing': 1e-09}                0.792759   \n",
       "\n",
       "  MLA Test Accuracy Mean MLA Test Accuracy 3*STD    MLA Time  \n",
       "5               0.835642                0.219584   0.0587366  \n",
       "1               0.816041                0.166998    0.328421  \n",
       "0               0.809057                0.134167    0.189996  \n",
       "4                0.80759                0.133569  0.00488524  \n",
       "8               0.806201                0.134268   0.0858694  \n",
       "6               0.796381                0.141217  0.00568438  \n",
       "2                0.78928                0.245636    0.218016  \n",
       "7               0.785133                0.249081  0.00747969  \n",
       "3               0.778091                0.209998  0.00478659  "
      ]
     },
     "execution_count": 72,
     "metadata": {},
     "output_type": "execute_result"
    }
   ],
   "source": [
    "MLA_compare_label.sort_values(by = ['MLA Test Accuracy Mean'], ascending = False, inplace = True)\n",
    "MLA_compare_label"
   ]
  },
  {
   "cell_type": "markdown",
   "metadata": {},
   "source": [
    "##### Model comparison for One-Hot encoding data"
   ]
  },
  {
   "cell_type": "code",
   "execution_count": 73,
   "metadata": {},
   "outputs": [],
   "source": [
    "# index through MLA and save performance to table\n",
    "row_index = 0\n",
    "\n",
    "for alg in MLA:\n",
    "    # stratified K Fold Split\n",
    "    skf = StratifiedKFold(n_splits = 10, random_state=10)\n",
    "        \n",
    "    # cross validation\n",
    "    cv_results = model_selection.cross_validate(alg, X2_train, y2_train, return_train_score=True, cv=skf)\n",
    "    \n",
    "    #set name and parameters\n",
    "    MLA_name = alg.__class__.__name__\n",
    "    MLA_compare_1hot.loc[row_index, 'MLA Name'] = MLA_name\n",
    "    MLA_compare_1hot.loc[row_index, 'MLA Parameters'] = str(alg.get_params())\n",
    "    MLA_compare_1hot.loc[row_index, 'MLA Time'] = cv_results['fit_time'].mean()\n",
    "    MLA_compare_1hot.loc[row_index, 'MLA Train Accuracy Mean'] = cv_results['train_score'].mean()\n",
    "    MLA_compare_1hot.loc[row_index, 'MLA Test Accuracy Mean'] = cv_results['test_score'].mean()  \n",
    "    MLA_compare_1hot.loc[row_index, 'MLA Test Accuracy 3*STD'] = cv_results['test_score'].std()*3\n",
    "    \n",
    "    row_index+=1"
   ]
  },
  {
   "cell_type": "code",
   "execution_count": 74,
   "metadata": {},
   "outputs": [
    {
     "data": {
      "text/html": [
       "<div>\n",
       "<style scoped>\n",
       "    .dataframe tbody tr th:only-of-type {\n",
       "        vertical-align: middle;\n",
       "    }\n",
       "\n",
       "    .dataframe tbody tr th {\n",
       "        vertical-align: top;\n",
       "    }\n",
       "\n",
       "    .dataframe thead th {\n",
       "        text-align: right;\n",
       "    }\n",
       "</style>\n",
       "<table border=\"1\" class=\"dataframe\">\n",
       "  <thead>\n",
       "    <tr style=\"text-align: right;\">\n",
       "      <th></th>\n",
       "      <th>MLA Name</th>\n",
       "      <th>MLA Parameters</th>\n",
       "      <th>MLA Train Accuracy Mean</th>\n",
       "      <th>MLA Test Accuracy Mean</th>\n",
       "      <th>MLA Test Accuracy 3*STD</th>\n",
       "      <th>MLA Time</th>\n",
       "    </tr>\n",
       "  </thead>\n",
       "  <tbody>\n",
       "    <tr>\n",
       "      <th>5</th>\n",
       "      <td>SVC</td>\n",
       "      <td>{'C': 1.0, 'break_ties': False, 'cache_size': ...</td>\n",
       "      <td>0.837859</td>\n",
       "      <td>0.835642</td>\n",
       "      <td>0.225995</td>\n",
       "      <td>0.0520613</td>\n",
       "    </tr>\n",
       "    <tr>\n",
       "      <th>7</th>\n",
       "      <td>LinearDiscriminantAnalysis</td>\n",
       "      <td>{'n_components': None, 'priors': None, 'shrink...</td>\n",
       "      <td>0.83505</td>\n",
       "      <td>0.832825</td>\n",
       "      <td>0.21751</td>\n",
       "      <td>0.00508397</td>\n",
       "    </tr>\n",
       "    <tr>\n",
       "      <th>1</th>\n",
       "      <td>GaussianProcessClassifier</td>\n",
       "      <td>{'copy_X_train': True, 'kernel': None, 'max_it...</td>\n",
       "      <td>0.86751</td>\n",
       "      <td>0.831455</td>\n",
       "      <td>0.223514</td>\n",
       "      <td>0.260415</td>\n",
       "    </tr>\n",
       "    <tr>\n",
       "      <th>2</th>\n",
       "      <td>LogisticRegressionCV</td>\n",
       "      <td>{'Cs': 10, 'class_weight': None, 'cv': None, '...</td>\n",
       "      <td>0.831461</td>\n",
       "      <td>0.818779</td>\n",
       "      <td>0.209165</td>\n",
       "      <td>0.473918</td>\n",
       "    </tr>\n",
       "    <tr>\n",
       "      <th>0</th>\n",
       "      <td>RandomForestClassifier</td>\n",
       "      <td>{'bootstrap': True, 'ccp_alpha': 0.0, 'class_w...</td>\n",
       "      <td>0.892947</td>\n",
       "      <td>0.816138</td>\n",
       "      <td>0.138765</td>\n",
       "      <td>0.276665</td>\n",
       "    </tr>\n",
       "    <tr>\n",
       "      <th>4</th>\n",
       "      <td>KNeighborsClassifier</td>\n",
       "      <td>{'algorithm': 'auto', 'leaf_size': 30, 'metric...</td>\n",
       "      <td>0.847991</td>\n",
       "      <td>0.810505</td>\n",
       "      <td>0.159061</td>\n",
       "      <td>0.00598347</td>\n",
       "    </tr>\n",
       "    <tr>\n",
       "      <th>8</th>\n",
       "      <td>XGBClassifier</td>\n",
       "      <td>{'objective': 'binary:logistic', 'base_score':...</td>\n",
       "      <td>0.88967</td>\n",
       "      <td>0.808979</td>\n",
       "      <td>0.133889</td>\n",
       "      <td>0.0632307</td>\n",
       "    </tr>\n",
       "    <tr>\n",
       "      <th>3</th>\n",
       "      <td>GaussianNB</td>\n",
       "      <td>{'priors': None, 'var_smoothing': 1e-09}</td>\n",
       "      <td>0.807272</td>\n",
       "      <td>0.806123</td>\n",
       "      <td>0.23466</td>\n",
       "      <td>0.0036901</td>\n",
       "    </tr>\n",
       "    <tr>\n",
       "      <th>6</th>\n",
       "      <td>DecisionTreeClassifier</td>\n",
       "      <td>{'ccp_alpha': 0.0, 'class_weight': None, 'crit...</td>\n",
       "      <td>0.892947</td>\n",
       "      <td>0.789378</td>\n",
       "      <td>0.162934</td>\n",
       "      <td>0.00489285</td>\n",
       "    </tr>\n",
       "  </tbody>\n",
       "</table>\n",
       "</div>"
      ],
      "text/plain": [
       "                     MLA Name  \\\n",
       "5                         SVC   \n",
       "7  LinearDiscriminantAnalysis   \n",
       "1   GaussianProcessClassifier   \n",
       "2        LogisticRegressionCV   \n",
       "0      RandomForestClassifier   \n",
       "4        KNeighborsClassifier   \n",
       "8               XGBClassifier   \n",
       "3                  GaussianNB   \n",
       "6      DecisionTreeClassifier   \n",
       "\n",
       "                                      MLA Parameters MLA Train Accuracy Mean  \\\n",
       "5  {'C': 1.0, 'break_ties': False, 'cache_size': ...                0.837859   \n",
       "7  {'n_components': None, 'priors': None, 'shrink...                 0.83505   \n",
       "1  {'copy_X_train': True, 'kernel': None, 'max_it...                 0.86751   \n",
       "2  {'Cs': 10, 'class_weight': None, 'cv': None, '...                0.831461   \n",
       "0  {'bootstrap': True, 'ccp_alpha': 0.0, 'class_w...                0.892947   \n",
       "4  {'algorithm': 'auto', 'leaf_size': 30, 'metric...                0.847991   \n",
       "8  {'objective': 'binary:logistic', 'base_score':...                 0.88967   \n",
       "3           {'priors': None, 'var_smoothing': 1e-09}                0.807272   \n",
       "6  {'ccp_alpha': 0.0, 'class_weight': None, 'crit...                0.892947   \n",
       "\n",
       "  MLA Test Accuracy Mean MLA Test Accuracy 3*STD    MLA Time  \n",
       "5               0.835642                0.225995   0.0520613  \n",
       "7               0.832825                 0.21751  0.00508397  \n",
       "1               0.831455                0.223514    0.260415  \n",
       "2               0.818779                0.209165    0.473918  \n",
       "0               0.816138                0.138765    0.276665  \n",
       "4               0.810505                0.159061  0.00598347  \n",
       "8               0.808979                0.133889   0.0632307  \n",
       "3               0.806123                 0.23466   0.0036901  \n",
       "6               0.789378                0.162934  0.00489285  "
      ]
     },
     "execution_count": 74,
     "metadata": {},
     "output_type": "execute_result"
    }
   ],
   "source": [
    "MLA_compare_1hot.sort_values(by = ['MLA Test Accuracy Mean'], ascending = False, inplace = True)\n",
    "MLA_compare_1hot"
   ]
  },
  {
   "cell_type": "markdown",
   "metadata": {},
   "source": [
    "Both `label` and `one-hot` encoding data suggests that SVC prrovides best accuracy score and almost identical for both scenarios. So we will use SVC and try to optimize with Hyperparameter tuning."
   ]
  },
  {
   "cell_type": "markdown",
   "metadata": {},
   "source": [
    "<div class=\"alert alert-warning\">  \n",
    "<h3><strong>Model Tuning & Evaluation</strong></h3>\n",
    "</div>"
   ]
  },
  {
   "cell_type": "markdown",
   "metadata": {},
   "source": [
    "But lets first evaluate our model without hyperparameter tuning."
   ]
  },
  {
   "cell_type": "code",
   "execution_count": 75,
   "metadata": {},
   "outputs": [],
   "source": [
    "# # train the model on train set \n",
    "# model = svm.SVC()\n",
    "# model_1hot = model.fit(X2_train, y2_train) \n",
    "  \n",
    "# # print prediction results \n",
    "# predictions_1hot = model.predict(X2_test) \n",
    "# print(classification_report(y2_test, predictions_1hot)) "
   ]
  },
  {
   "cell_type": "markdown",
   "metadata": {},
   "source": [
    "First lets define parameters grid which includes parameters and values we want to use to tune our model."
   ]
  },
  {
   "cell_type": "code",
   "execution_count": 76,
   "metadata": {},
   "outputs": [],
   "source": [
    "# defining parameters and values \n",
    "param_grid = {'C': [0.1, 1, 10, 100, 1000],  \n",
    "              'gamma': [1, 0.1, 0.01, 0.001, 0.0001], \n",
    "              'kernel': ['rbf']}  "
   ]
  },
  {
   "cell_type": "code",
   "execution_count": 77,
   "metadata": {},
   "outputs": [],
   "source": [
    "grid = GridSearchCV(svm.SVC(), param_grid, refit = True, verbose = False) "
   ]
  },
  {
   "cell_type": "code",
   "execution_count": 78,
   "metadata": {},
   "outputs": [
    {
     "data": {
      "text/plain": [
       "GridSearchCV(estimator=SVC(),\n",
       "             param_grid={'C': [0.1, 1, 10, 100, 1000],\n",
       "                         'gamma': [1, 0.1, 0.01, 0.001, 0.0001],\n",
       "                         'kernel': ['rbf']},\n",
       "             verbose=False)"
      ]
     },
     "execution_count": 78,
     "metadata": {},
     "output_type": "execute_result"
    }
   ],
   "source": [
    "# fitting the model for grid search \n",
    "grid.fit(X2_train, y2_train)"
   ]
  },
  {
   "cell_type": "code",
   "execution_count": 79,
   "metadata": {},
   "outputs": [
    {
     "name": "stdout",
     "output_type": "stream",
     "text": [
      "{'C': 100, 'gamma': 0.01, 'kernel': 'rbf'}\n"
     ]
    }
   ],
   "source": [
    "print(grid.best_params_) "
   ]
  },
  {
   "cell_type": "code",
   "execution_count": 80,
   "metadata": {},
   "outputs": [
    {
     "name": "stdout",
     "output_type": "stream",
     "text": [
      "SVC(C=100, gamma=0.01)\n"
     ]
    }
   ],
   "source": [
    "print(grid.best_estimator_) "
   ]
  },
  {
   "cell_type": "code",
   "execution_count": 81,
   "metadata": {},
   "outputs": [
    {
     "name": "stdout",
     "output_type": "stream",
     "text": [
      "              precision    recall  f1-score   support\n",
      "\n",
      "           0       0.83      0.88      0.85       105\n",
      "           1       0.81      0.74      0.77        74\n",
      "\n",
      "    accuracy                           0.82       179\n",
      "   macro avg       0.82      0.81      0.81       179\n",
      "weighted avg       0.82      0.82      0.82       179\n",
      "\n"
     ]
    }
   ],
   "source": [
    "model_tuned = svm.SVC(C=100, gamma=0.01, kernel='rbf')\n",
    "model_tuned.fit(X2_train, y2_train)\n",
    "predict_tuned = model_tuned.predict(X2_test)\n",
    "print(classification_report(y2_test, predict_tuned))"
   ]
  },
  {
   "cell_type": "markdown",
   "metadata": {},
   "source": [
    "There is not much change in metrics even after tuning. Recall score for 'Survived' people is only 0.74 which means out of all survived classes in the truth sample our model is only able to classify 74% of them as survived while rest 26% as 'not survived'"
   ]
  },
  {
   "cell_type": "markdown",
   "metadata": {},
   "source": [
    "**Confusion Matrix** : It is a performance measurement for machine learning classification problem where output can be two or more classes. It is a table with 4 different combinations of predicted and actual values."
   ]
  },
  {
   "attachments": {
    "b5b1169b-6e52-4819-981a-43164e269dcd.png": {
     "image/png": "[encoded data removed]"
    }
   },
   "cell_type": "markdown",
   "metadata": {},
   "source": [
    "![image.png](attachment:b5b1169b-6e52-4819-981a-43164e269dcd.png)"
   ]
  },
  {
   "cell_type": "code",
   "execution_count": 82,
   "metadata": {},
   "outputs": [
    {
     "data": {
      "text/plain": [
       "array([[92, 13],\n",
       "       [19, 55]], dtype=int64)"
      ]
     },
     "execution_count": 82,
     "metadata": {},
     "output_type": "execute_result"
    }
   ],
   "source": [
    "cm = confusion_matrix(y2_test, predict_tuned)\n",
    "cm"
   ]
  },
  {
   "cell_type": "code",
   "execution_count": 83,
   "metadata": {},
   "outputs": [
    {
     "data": {
      "image/png": "[encoded data removed]",
      "text/plain": [
       "<Figure size 432x432 with 2 Axes>"
      ]
     },
     "metadata": {},
     "output_type": "display_data"
    }
   ],
   "source": [
    "# Plot confusion matrix\n",
    "\n",
    "def plot_cm(y_true, y_pred, figsize=(6,6)):\n",
    "    cm = confusion_matrix(y_true, y_pred, labels=np.unique(y_true))\n",
    "    cm_sum = np.sum(cm, axis=1, keepdims=True)\n",
    "    cm_perc = cm / cm_sum.astype(float) * 100\n",
    "    annot = np.empty_like(cm).astype(str)\n",
    "    nrows, ncols = cm.shape\n",
    "    for i in range(nrows):\n",
    "        for j in range(ncols):\n",
    "            c = cm[i, j]\n",
    "            p = cm_perc[i, j]\n",
    "            if i == j:\n",
    "                s = cm_sum[i]\n",
    "                annot[i, j] = '%.1f%%\\n%d/%d' % (p, c, s)\n",
    "            elif c == 0:\n",
    "                annot[i, j] = ''\n",
    "            else:\n",
    "                annot[i, j] = '%.1f%%\\n%d' % (p, c)\n",
    "    cm = pd.DataFrame(cm, index=np.unique(y_true), columns=np.unique(y_true))\n",
    "    cm.index.name = 'Actual'\n",
    "    cm.columns.name = 'Predicted'\n",
    "    fig, ax = plt.subplots(figsize=figsize)\n",
    "    sns.heatmap(cm, cmap= cmap, annot=annot, fmt='', ax=ax)\n",
    "    \n",
    "plot_cm(y2_test, predict_tuned)"
   ]
  },
  {
   "cell_type": "markdown",
   "metadata": {},
   "source": [
    "We have higher rate of False Negative."
   ]
  },
  {
   "cell_type": "markdown",
   "metadata": {},
   "source": [
    "<div class=\"alert alert-warning\">  \n",
    "<h3><strong>Conclusion</strong></h3>\n",
    "</div>"
   ]
  },
  {
   "cell_type": "markdown",
   "metadata": {},
   "source": [
    "- Given the dataset, we are able to predict whether or not a passenger will survive the titanic disaster with accuracy of `83.56%`.\n",
    "- We attempted to test and select best model highest accuracy for both `label` and `one-hot` encoding dataset.\n",
    "- In both cases, Support Vector Machine outperformed rest of the models in terms of accuracy. LDA and GPC are closer to SVC for `one-hot` encoded dataset.\n",
    "- Even after using `GridSearchCV` to tune SVC model, we were not able to improve the accuracy of our model.\n",
    "- From confusion matrix it is clear that we have higher rate of `false negatives`.\n",
    "\n",
    "[Class Imbalance Learning Method For SVM](http://www.cs.ox.ac.uk/people/vasile.palade/papers/Class-Imbalance-SVM.pdf)"
   ]
  },
  {
   "cell_type": "markdown",
   "metadata": {},
   "source": [
    "<div class=\"alert alert-warning\">  \n",
    "<h3><strong>Submission</strong></h3>\n",
    "</div>"
   ]
  },
  {
   "cell_type": "code",
   "execution_count": 84,
   "metadata": {},
   "outputs": [],
   "source": [
    "test_prediction = model_tuned.predict(predict_1hot)\n",
    "submission = pd.DataFrame({\n",
    "    'PassengerId' : passengerid,\n",
    "    'Survived': test_prediction\n",
    "})\n",
    "\n",
    "submission['PassengerId'] = submission['PassengerId'].astype(int)\n",
    "submission['Survived'] = submission['Survived'].astype(int)"
   ]
  },
  {
   "cell_type": "code",
   "execution_count": 89,
   "metadata": {},
   "outputs": [],
   "source": [
    "submission.to_csv(\"titanic_submission_20201129.csv\", index=False)"
   ]
  },
  {
   "cell_type": "markdown",
   "metadata": {},
   "source": [
    "Resources:\n",
    "- https://www.kaggle.com/masumrumi/a-statistical-analysis-ml-workflow-of-titanic\n",
    "- https://www.kaggle.com/ldfreeman3/a-data-science-framework-to-achieve-99-accuracy\n",
    "- https://www.kaggle.com/ruchi798/break-the-ice\n",
    "- https://www.kaggle.com/agungor2/various-confusion-matrix-plots\n",
    "- https://trello.com/c/AUUdm4tq/35-kaggle-awesome-visualization-with-titanic-dataset%F0%9F%93%8A-subinum"
   ]
  },
  {
   "cell_type": "code",
   "execution_count": null,
   "metadata": {},
   "outputs": [],
   "source": []
  }
 ],
 "metadata": {
  "kernelspec": {
   "display_name": "Python 3",
   "language": "python",
   "name": "python3"
  },
  "language_info": {
   "codemirror_mode": {
    "name": "ipython",
    "version": 3
   },
   "file_extension": ".py",
   "mimetype": "text/x-python",
   "name": "python",
   "nbconvert_exporter": "python",
   "pygments_lexer": "ipython3",
   "version": "3.8.5"
  }
 },
 "nbformat": 4,
 "nbformat_minor": 4
}
